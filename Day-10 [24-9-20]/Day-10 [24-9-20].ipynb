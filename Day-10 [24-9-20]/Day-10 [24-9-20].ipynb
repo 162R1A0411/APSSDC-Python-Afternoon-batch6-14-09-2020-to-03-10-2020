{
 "cells": [
  {
   "cell_type": "code",
   "execution_count": 1,
   "metadata": {},
   "outputs": [
    {
     "name": "stdout",
     "output_type": "stream",
     "text": [
      "Enter Somthing:hello python\n",
      "Completed....................\n"
     ]
    }
   ],
   "source": [
    "# Write a File \n",
    "# write() # I/P--> string\n",
    "temp = open(\"students.txt\",'w') # python <-------> File\n",
    "temp.write(input(\"Enter Somthing:\")) \n",
    "print(\"Completed\"+('.'*20))\n",
    "temp.close() # python <----X---> File"
   ]
  },
  {
   "cell_type": "code",
   "execution_count": 13,
   "metadata": {},
   "outputs": [
    {
     "name": "stdout",
     "output_type": "stream",
     "text": [
      "check output once!\n"
     ]
    }
   ],
   "source": [
    "# writelines() #I/P --> List\n",
    "names = ['narayana\\n','indupriya\\n','surya\\n','ravi\\n','kiran\\n']\n",
    "\n",
    "t= open(r\"C:\\Users\\HP\\Desktop\\names.txt\",'w')\n",
    "t.writelines(names)\n",
    "t.close()\n",
    "print('check output once!')"
   ]
  },
  {
   "cell_type": "code",
   "execution_count": null,
   "metadata": {},
   "outputs": [],
   "source": [
    "# Escape sequences -->  \\n \\t .. ..."
   ]
  },
  {
   "cell_type": "code",
   "execution_count": null,
   "metadata": {},
   "outputs": [],
   "source": [
    "# Overcome Escape Sequences \n",
    "# \\ replace with \\\\\n",
    "# \\ replace with /\n",
    "# r -> raw path/raw location"
   ]
  },
  {
   "cell_type": "code",
   "execution_count": 6,
   "metadata": {},
   "outputs": [],
   "source": [
    "location= 'C:\\\\Users\\\\HP\\\\Desktop\\\\'"
   ]
  },
  {
   "cell_type": "code",
   "execution_count": 7,
   "metadata": {},
   "outputs": [
    {
     "name": "stdout",
     "output_type": "stream",
     "text": [
      "C:\\Users\\HP\\Desktop\\\n"
     ]
    }
   ],
   "source": [
    "print(location)"
   ]
  },
  {
   "cell_type": "code",
   "execution_count": 8,
   "metadata": {},
   "outputs": [],
   "source": [
    "location = \"C:/Users/HP/Desktop/\""
   ]
  },
  {
   "cell_type": "code",
   "execution_count": 10,
   "metadata": {},
   "outputs": [],
   "source": [
    "location =r\"C:\\Users\\HP\\Desktop\""
   ]
  },
  {
   "cell_type": "code",
   "execution_count": 14,
   "metadata": {
    "collapsed": true
   },
   "outputs": [
    {
     "data": {
      "text/plain": [
       "'\\nRead mode Rules\\n---------------\\n-> file creation is not possible\\n-> write() not working\\n-> read() working\\n'"
      ]
     },
     "execution_count": 14,
     "metadata": {},
     "output_type": "execute_result"
    }
   ],
   "source": [
    "# Read file  read mode(r)\n",
    "'''\n",
    "Read mode Rules\n",
    "---------------\n",
    "-> file creation is not possible\n",
    "-> write() not working\n",
    "-> read() working\n",
    "'''"
   ]
  },
  {
   "cell_type": "code",
   "execution_count": 19,
   "metadata": {},
   "outputs": [
    {
     "name": "stdout",
     "output_type": "stream",
     "text": [
      "~~~~~~~~~~~~~~~~~~~students.txt~~~~~~~~~~~~~~~~~~~\n",
      "narayana\n",
      "indupriya\n",
      "surya\n",
      "ravi\n",
      "kiran\n",
      "\n"
     ]
    }
   ],
   "source": [
    "file = open('C:\\\\Users\\\\HP\\\\Desktop\\\\names.txt','r') # 'r' is a default mode for open()\n",
    "file_data = file.read() # O/P-->  string\n",
    "print(\"students.txt\".center(50,'~')) # 50-string length\n",
    "print(file_data)\n",
    "file.close()"
   ]
  },
  {
   "cell_type": "code",
   "execution_count": 20,
   "metadata": {
    "collapsed": true
   },
   "outputs": [
    {
     "data": {
      "text/plain": [
       "'\\nr -> read mode\\nx -> create mode\\nw -> write mode\\na -> append mode\\nr+ -> read & write mode\\nrb -> read in binary \\nwb -> write in binary\\nwb+ -> read & write in binary\\nab+ -> appendeing & reading in binary\\n'"
      ]
     },
     "execution_count": 20,
     "metadata": {},
     "output_type": "execute_result"
    }
   ],
   "source": [
    "# Modes in File Handling\n",
    "'''\n",
    "r -> read mode\n",
    "x -> create mode\n",
    "w -> write mode\n",
    "a -> append mode\n",
    "r+ -> read & write mode\n",
    "rb -> read in binary \n",
    "wb -> write in binary\n",
    "wb+ -> read & write in binary\n",
    "ab+ -> appendeing & reading in binary\n",
    "'''"
   ]
  },
  {
   "cell_type": "code",
   "execution_count": 21,
   "metadata": {},
   "outputs": [
    {
     "name": "stdout",
     "output_type": "stream",
     "text": [
      "Done\n"
     ]
    }
   ],
   "source": [
    "# Append Mode (a)\n",
    "a= open(\"laptop.txt\",'a')\n",
    "a.write(\"\\nHello This is append line\\n\")\n",
    "a.close()\n",
    "print(\"Done\")"
   ]
  },
  {
   "cell_type": "code",
   "execution_count": 22,
   "metadata": {},
   "outputs": [
    {
     "name": "stdout",
     "output_type": "stream",
     "text": [
      "hello python\n",
      "Hello This is append line\n",
      "\n"
     ]
    }
   ],
   "source": [
    "file2 = open('laptop.txt')\n",
    "print(file2.read())\n",
    "file2.close()"
   ]
  },
  {
   "cell_type": "code",
   "execution_count": null,
   "metadata": {},
   "outputs": [],
   "source": [
    "# Read Have 3 methods\n",
    "# read(length) #O/P -> datatype-> str \n",
    "# readline(length)  #O/P -> datatype-> str \n",
    "# readlines(length)  #O/P -> datatype-> List"
   ]
  },
  {
   "cell_type": "code",
   "execution_count": 28,
   "metadata": {},
   "outputs": [
    {
     "name": "stdout",
     "output_type": "stream",
     "text": [
      "Enter Len: 2000\n",
      "hello python\n",
      "Hello This is append line\n",
      "\n"
     ]
    }
   ],
   "source": [
    "# read(length) Example\n",
    "file2 = open('laptop.txt')\n",
    "print(file2.read(int(input(\"Enter Len: \"))))\n",
    "file2.close()"
   ]
  },
  {
   "cell_type": "code",
   "execution_count": 31,
   "metadata": {},
   "outputs": [
    {
     "name": "stdout",
     "output_type": "stream",
     "text": [
      "hello python\n",
      "\n"
     ]
    }
   ],
   "source": [
    "# readline(length) Ex\n",
    "file2 = open('laptop.txt')\n",
    "print(file2.readline(50)) # always returns sinlgle line\n",
    "file2.close()"
   ]
  },
  {
   "cell_type": "code",
   "execution_count": 35,
   "metadata": {},
   "outputs": [
    {
     "name": "stdout",
     "output_type": "stream",
     "text": [
      "['hello python\\n', 'Hello This is append line\\n']\n"
     ]
    }
   ],
   "source": [
    "# readlines(length) Ex\n",
    "file2 = open('laptop.txt')\n",
    "print(file2.readlines(20)) # O/P  --> List\n",
    "file2.close()"
   ]
  },
  {
   "cell_type": "code",
   "execution_count": 40,
   "metadata": {},
   "outputs": [
    {
     "name": "stdout",
     "output_type": "stream",
     "text": [
      "ENter String:- college\n",
      "collegee once\n",
      "college.txt\n",
      "r+\n",
      "False\n",
      "True\n"
     ]
    }
   ],
   "source": [
    "# Example\n",
    "new = open(\"college.txt\",'r+')\n",
    "new.write(input(\"ENter String:- \"))\n",
    "new.seek(0) # changing Postion of Control\n",
    "print(new.read())\n",
    "print(new.name)\n",
    "print(new.mode)\n",
    "print(new.closed)\n",
    "new.close()\n",
    "print(new.closed)"
   ]
  },
  {
   "cell_type": "markdown",
   "metadata": {},
   "source": [
    "## TASKS\n",
    "- Create N no. of Text files \n",
    "- Print sum of Digits using Text File"
   ]
  },
  {
   "cell_type": "markdown",
   "metadata": {},
   "source": [
    "## Comprehentions\n",
    "- List Comprehntion\n",
    "- Tuple Comprehention\n",
    "- Set Comprehention\n",
    "- Dictionary Comprehention"
   ]
  },
  {
   "cell_type": "code",
   "execution_count": 41,
   "metadata": {},
   "outputs": [],
   "source": [
    "# List Comprehentions\n",
    "# store 1 to 10 numbers in list\n",
    "numbers = [1,2,3,4,5,6,7,8,9,10]"
   ]
  },
  {
   "cell_type": "code",
   "execution_count": 42,
   "metadata": {},
   "outputs": [
    {
     "data": {
      "text/plain": [
       "[1, 2, 3, 4, 5, 6, 7, 8, 9, 10]"
      ]
     },
     "execution_count": 42,
     "metadata": {},
     "output_type": "execute_result"
    }
   ],
   "source": [
    "numbers"
   ]
  },
  {
   "cell_type": "code",
   "execution_count": 43,
   "metadata": {},
   "outputs": [
    {
     "name": "stdout",
     "output_type": "stream",
     "text": [
      "[1, 2, 3, 4, 5, 6, 7, 8, 9, 10, 11, 12, 13, 14, 15, 16, 17, 18, 19, 20, 21, 22, 23, 24, 25, 26, 27, 28, 29, 30, 31, 32, 33, 34, 35, 36, 37, 38, 39, 40, 41, 42, 43, 44, 45, 46, 47, 48, 49, 50, 51, 52, 53, 54, 55, 56, 57, 58, 59, 60, 61, 62, 63, 64, 65, 66, 67, 68, 69, 70, 71, 72, 73, 74, 75, 76, 77, 78, 79, 80, 81, 82, 83, 84, 85, 86, 87, 88, 89, 90, 91, 92, 93, 94, 95, 96, 97, 98, 99, 100]\n"
     ]
    }
   ],
   "source": [
    "# Store 1 to 100 numbers in list\n",
    "num=[]\n",
    "for i in range(1,100+1):\n",
    "    num.append(i)\n",
    "print(num)"
   ]
  },
  {
   "cell_type": "code",
   "execution_count": null,
   "metadata": {},
   "outputs": [],
   "source": [
    "# Syntax of List Comprehention\n",
    "# variable = [temvariable for temvariable in range/iterable data]"
   ]
  },
  {
   "cell_type": "code",
   "execution_count": 44,
   "metadata": {},
   "outputs": [],
   "source": [
    "# Store 1 to 100 numbers in list using comprehention\n",
    "\n",
    "list_temp =[j for j in range(1,101)]"
   ]
  },
  {
   "cell_type": "code",
   "execution_count": 45,
   "metadata": {},
   "outputs": [
    {
     "name": "stdout",
     "output_type": "stream",
     "text": [
      "[1, 2, 3, 4, 5, 6, 7, 8, 9, 10, 11, 12, 13, 14, 15, 16, 17, 18, 19, 20, 21, 22, 23, 24, 25, 26, 27, 28, 29, 30, 31, 32, 33, 34, 35, 36, 37, 38, 39, 40, 41, 42, 43, 44, 45, 46, 47, 48, 49, 50, 51, 52, 53, 54, 55, 56, 57, 58, 59, 60, 61, 62, 63, 64, 65, 66, 67, 68, 69, 70, 71, 72, 73, 74, 75, 76, 77, 78, 79, 80, 81, 82, 83, 84, 85, 86, 87, 88, 89, 90, 91, 92, 93, 94, 95, 96, 97, 98, 99, 100]\n"
     ]
    }
   ],
   "source": [
    "print(list_temp)"
   ]
  },
  {
   "cell_type": "code",
   "execution_count": 46,
   "metadata": {
    "collapsed": true
   },
   "outputs": [
    {
     "ename": "SyntaxError",
     "evalue": "invalid syntax (<ipython-input-46-84bd65bf96ea>, line 1)",
     "output_type": "error",
     "traceback": [
      "\u001b[1;36m  File \u001b[1;32m\"<ipython-input-46-84bd65bf96ea>\"\u001b[1;36m, line \u001b[1;32m1\u001b[0m\n\u001b[1;33m    t= [mn for mn in \"python\": print(\"hi\")]\u001b[0m\n\u001b[1;37m                             ^\u001b[0m\n\u001b[1;31mSyntaxError\u001b[0m\u001b[1;31m:\u001b[0m invalid syntax\n"
     ]
    }
   ],
   "source": [
    "t= [mn for mn in \"python\": print(\"hi\")]"
   ]
  },
  {
   "cell_type": "code",
   "execution_count": 50,
   "metadata": {},
   "outputs": [
    {
     "name": "stdout",
     "output_type": "stream",
     "text": [
      "[101, 102, 103, 104, 105, 106, 107, 108, 109, 110, 111, 112, 113, 114, 115, 116, 117, 118, 119, 120, 121, 122, 123, 124, 125, 126, 127, 128, 129, 130, 131, 132, 133, 134, 135, 136, 137, 138, 139, 140, 141, 142, 143, 144, 145, 146, 147, 148, 149]\n"
     ]
    }
   ],
   "source": [
    "# store Even Numbers b/w 100 to 150  using comprehention \n",
    "print([p for  p in list(range(101,150,1))])"
   ]
  },
  {
   "cell_type": "code",
   "execution_count": 51,
   "metadata": {},
   "outputs": [
    {
     "name": "stdout",
     "output_type": "stream",
     "text": [
      "['Even', 'Odd', 'Even', 'Odd', 'Even', 'Odd', 'Even', 'Odd', 'Even', 'Odd']\n"
     ]
    }
   ],
   "source": [
    "# List Comprehention using if\n",
    "# print Even/Odd using if else\n",
    "print([\"Even\" if i%2==0 else \"Odd\" for i in range(20,30)])"
   ]
  },
  {
   "cell_type": "code",
   "execution_count": 52,
   "metadata": {},
   "outputs": [
    {
     "name": "stdout",
     "output_type": "stream",
     "text": [
      "[[1, 3, 5, 7], [2, 4, 6, 8]]\n"
     ]
    }
   ],
   "source": [
    "# Transpose of a Matrix using List Comprehention\n",
    "matrix =[[1,2],[3,4],[5,6],[7,8]]\n",
    "transpose  = [[row[i] for  row in matrix] for i in range(2)]\n",
    "print(transpose)"
   ]
  },
  {
   "cell_type": "code",
   "execution_count": 57,
   "metadata": {},
   "outputs": [],
   "source": [
    "num =[[1,\"narayana\"],[2,\"indupriya\"],[3,'surya']]\n",
    "temp = [[sub[j] for sub in num] for j in range(2)]"
   ]
  }
 ],
 "metadata": {
  "kernelspec": {
   "display_name": "Python 3",
   "language": "python",
   "name": "python3"
  },
  "language_info": {
   "codemirror_mode": {
    "name": "ipython",
    "version": 3
   },
   "file_extension": ".py",
   "mimetype": "text/x-python",
   "name": "python",
   "nbconvert_exporter": "python",
   "pygments_lexer": "ipython3",
   "version": "3.8.3"
  }
 },
 "nbformat": 4,
 "nbformat_minor": 4
}
