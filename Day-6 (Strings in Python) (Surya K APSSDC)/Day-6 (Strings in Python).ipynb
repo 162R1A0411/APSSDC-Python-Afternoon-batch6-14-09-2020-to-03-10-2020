{
 "cells": [
  {
   "cell_type": "code",
   "execution_count": null,
   "metadata": {},
   "outputs": [],
   "source": [
    "#Agenda of Today: \n",
    "                  1. Strings in Python\n",
    "                  2. Introduction to Data Structures\n",
    "                  3. Problem Solving"
   ]
  },
  {
   "cell_type": "code",
   "execution_count": null,
   "metadata": {},
   "outputs": [],
   "source": [
    "#Strings:\n",
    " Def: String is Array Sequence of Characters.\n",
    "        \n",
    "        #How to create string??\n",
    "         We create strings by enclosing characters inside a single or double quotes.\n",
    "        \n",
    "#Note: There is no Char Data type in Python\n"
   ]
  },
  {
   "cell_type": "code",
   "execution_count": 11,
   "metadata": {},
   "outputs": [
    {
     "name": "stdout",
     "output_type": "stream",
     "text": [
      "<class 'str'>\n",
      "<class 'str'>\n",
      "\n",
      "Apssdc\n",
      "python\n",
      "A\n"
     ]
    },
    {
     "data": {
      "text/plain": [
       "str"
      ]
     },
     "execution_count": 11,
     "metadata": {},
     "output_type": "execute_result"
    }
   ],
   "source": [
    "#How to create strings?\n",
    "s = \" \"   #empty string\n",
    "print(type(s))\n",
    "s = 100\n",
    "print(type(str(s)))\n",
    "s1 = str()\n",
    "print(s1)\n",
    "s = \"Apssdc\"\n",
    "print(s)\n",
    "s = 'python'\n",
    "print(s)\n",
    "s = \"\"\"This is Online session About Python \n",
    "           Programming By APSSDC\n",
    "                  to all Over AP\"\"\"\n",
    "s = \"A\"\n",
    "print(s)\n",
    "type(s)"
   ]
  },
  {
   "cell_type": "code",
   "execution_count": 25,
   "metadata": {},
   "outputs": [
    {
     "name": "stdout",
     "output_type": "stream",
     "text": [
      "T\n",
      "u\n",
      "y\n",
      "Today\n",
      "urda\n",
      "yadrutaS si yadoT\n",
      " is Saturd\n",
      "17\n",
      "y\n"
     ]
    }
   ],
   "source": [
    "#How to access characters in strings?\n",
    "s = \"Today is Saturday\" \n",
    "#indexing\n",
    "print(s[0])\n",
    "print(s[12])   #Postive indexing\n",
    "print(s[-1])   #negative indexing\n",
    "#Slicing\n",
    "print(s[0:5])  #Positive Slicing by \":\" \n",
    "print(s[-5:-1])  #Negative Slicing\n",
    "print(s[::-1])   #Reverse a string\n",
    "print(s[5:-2])\n",
    "print(len(s))\n",
    "print(s[16])"
   ]
  },
  {
   "cell_type": "code",
   "execution_count": null,
   "metadata": {},
   "outputs": [],
   "source": [
    "#How to change or delete s strings?\n",
    "  1. We cant change the characters in strings becuase strings are immutable.\n",
    "  2. But we can replace the new  string with old string\n",
    "  3. we also delete a entire string by using del keyword"
   ]
  },
  {
   "cell_type": "code",
   "execution_count": 31,
   "metadata": {},
   "outputs": [
    {
     "name": "stdout",
     "output_type": "stream",
     "text": [
      "Python Programming\n",
      "Java Programming\n"
     ]
    }
   ],
   "source": [
    "s = \"Python Programming\"\n",
    "print(s)\n",
    "s = \"Java Programming\"\n",
    "print(s)\n",
    "#delete a string\n",
    "del s\n",
    "#print(s)"
   ]
  },
  {
   "cell_type": "code",
   "execution_count": 39,
   "metadata": {},
   "outputs": [
    {
     "name": "stdout",
     "output_type": "stream",
     "text": [
      "Hello Dear Python Students\n",
      "Hello Apssdc Python Session Students\n",
      "Hello DearHello DearHello DearHello DearHello DearHello DearHello DearHello DearHello DearHello Dear\n",
      " Python Students Python Students Python StudentsHello Dear Python Students Python Students Python Students Python Students Python Students\n"
     ]
    }
   ],
   "source": [
    "#String Operations:\n",
    "#string concatenation:\n",
    "s1 = \"Hello Dear\"\n",
    "s2 = \" Python Students\"\n",
    "print(s1+s2)\n",
    "s3 = (\"Hello\"\n",
    "          \" Apssdc\"\n",
    "                 \" Python\"\n",
    "                       \" Session\"\n",
    "                            \" Students\")\n",
    "print(s3)\n",
    "#String Multiplication\n",
    "print(s1 * 10)\n",
    "print(s2*3+s1+s2*5)"
   ]
  },
  {
   "cell_type": "code",
   "execution_count": 52,
   "metadata": {},
   "outputs": [
    {
     "name": "stdout",
     "output_type": "stream",
     "text": [
      "\n",
      "\n",
      "5\n",
      "s s s s s "
     ]
    }
   ],
   "source": [
    "#How to iterate through a string:\n",
    "def countofcharacters():\n",
    "    s = \"Sunday is Holiday there is no session for All\"\n",
    "    count = 0\n",
    "    for ch in s:\n",
    "        if ch == \"s\":\n",
    "            count = count+1\n",
    "            print(ch,end=\" \")\n",
    "print(\"\\n\")\n",
    "print(count)\n",
    "countofcharacters()"
   ]
  },
  {
   "cell_type": "code",
   "execution_count": 59,
   "metadata": {},
   "outputs": [
    {
     "name": "stdout",
     "output_type": "stream",
     "text": [
      "True\n",
      "True\n",
      "False\n"
     ]
    }
   ],
   "source": [
    "#String Membership Test:\n",
    "s = \"python is very easy\"\n",
    "print(\"v\" in s)\n",
    "print(\"w\" not in s)\n",
    "print(\"Z\" in s)"
   ]
  },
  {
   "cell_type": "code",
   "execution_count": 64,
   "metadata": {},
   "outputs": [
    {
     "name": "stdout",
     "output_type": "stream",
     "text": [
      "Data Science\n",
      "[(0, 'D'), (1, 'a'), (2, 't'), (3, 'a'), (4, ' '), (5, 'S'), (6, 'c'), (7, 'i'), (8, 'e'), (9, 'n'), (10, 'c'), (11, 'e')]"
     ]
    }
   ],
   "source": [
    "#builtin functions\n",
    "#len()\n",
    "#enumerate()\n",
    "s = \"Data Science\"\n",
    "print(s)\n",
    "listenumerate = list(enumerate(s))\n",
    "print(listenumerate,end=\"\")"
   ]
  },
  {
   "cell_type": "code",
   "execution_count": 70,
   "metadata": {},
   "outputs": [
    {
     "name": "stdout",
     "output_type": "stream",
     "text": [
      "Hai...Mr.Python How are u \"What's Up?\n",
      "Hai...Mr.Python How are u \"What's Up?\n",
      "Hai...Mr.Python How are u \"What's Up?\"\n"
     ]
    }
   ],
   "source": [
    "#How to Format the strings?\n",
    "#using triple quotes\n",
    "print(\"\"\"Hai...Mr.Python How are u \"What's Up?\"\"\")\n",
    "\n",
    "#escaping single quotes\n",
    "\n",
    "print('Hai...Mr.Python How are u \"What\\'s Up?')\n",
    "\n",
    "#escaping double quotes\n",
    "\n",
    "print(\"Hai...Mr.Python How are u \\\"What's Up?\\\"\")"
   ]
  },
  {
   "cell_type": "code",
   "execution_count": 81,
   "metadata": {},
   "outputs": [
    {
     "name": "stdout",
     "output_type": "stream",
     "text": [
      "Machine Learning, Django and Data Science\n",
      "Data Science,Machine Learning and Django\n",
      "java,C++ and Python\n"
     ]
    }
   ],
   "source": [
    "#format(): its can be done using {} brackets\n",
    "A = \"Machine Learning\"\n",
    "B = \"Django\"\n",
    "C = \"Data Science\"\n",
    "normal= \"{}, {} and {}\".format(A,B,C)\n",
    "print(normal)\n",
    "positional = \"{2},{0} and {1}\".format(A,B,C)\n",
    "print(positional)\n",
    "keyword = \"{X},{Z} and {Y}\".format(X=\"java\",Y=\"Python\",Z=\"C++\")\n",
    "print(keyword)"
   ]
  },
  {
   "cell_type": "code",
   "execution_count": 84,
   "metadata": {},
   "outputs": [
    {
     "name": "stdout",
     "output_type": "stream",
     "text": [
      "value of a is                                          50.589484\n"
     ]
    }
   ],
   "source": [
    "a = 50.5894839333\n",
    "print(\"value of a is %50.6f\" %a)"
   ]
  },
  {
   "cell_type": "code",
   "execution_count": 86,
   "metadata": {},
   "outputs": [
    {
     "name": "stdout",
     "output_type": "stream",
     "text": [
      "['__add__', '__class__', '__contains__', '__delattr__', '__dir__', '__doc__', '__eq__', '__format__', '__ge__', '__getattribute__', '__getitem__', '__getnewargs__', '__gt__', '__hash__', '__init__', '__init_subclass__', '__iter__', '__le__', '__len__', '__lt__', '__mod__', '__mul__', '__ne__', '__new__', '__reduce__', '__reduce_ex__', '__repr__', '__rmod__', '__rmul__', '__setattr__', '__sizeof__', '__str__', '__subclasshook__', 'capitalize', 'casefold', 'center', 'count', 'encode', 'endswith', 'expandtabs', 'find', 'format', 'format_map', 'index', 'isalnum', 'isalpha', 'isascii', 'isdecimal', 'isdigit', 'isidentifier', 'islower', 'isnumeric', 'isprintable', 'isspace', 'istitle', 'isupper', 'join', 'ljust', 'lower', 'lstrip', 'maketrans', 'partition', 'replace', 'rfind', 'rindex', 'rjust', 'rpartition', 'rsplit', 'rstrip', 'split', 'splitlines', 'startswith', 'strip', 'swapcase', 'title', 'translate', 'upper', 'zfill'] "
     ]
    }
   ],
   "source": [
    "#String Methods:\n",
    " #To know the all methods of string or any sequence we use which builtin function?\n",
    "    #dir()\n",
    "print(dir(str),end=\" \")"
   ]
  },
  {
   "cell_type": "code",
   "execution_count": 92,
   "metadata": {},
   "outputs": [
    {
     "name": "stdout",
     "output_type": "stream",
     "text": [
      "web development using django\n",
      "WEB DEVELOPMENT USING DJANGO\n",
      "Web development using django\n",
      "Web Development Using Django\n"
     ]
    }
   ],
   "source": [
    "#lower()\n",
    "#upper()\n",
    "#join()\n",
    "#split()\n",
    "#find()\n",
    "#replace()\n",
    "#count()\n",
    "s = \"Web Development Using Django\"\n",
    "s1= \"web development using django\"\n",
    "print(s.lower())   #its change the entire string to lower case\n",
    "print(s.upper())   #its change the entire string to upper case\n",
    "print(s.capitalize())  #it can upper the string character only \n",
    "print(s1.title())    #it can capitalize the first character of every word in a string"
   ]
  },
  {
   "cell_type": "code",
   "execution_count": 97,
   "metadata": {},
   "outputs": [
    {
     "name": "stdout",
     "output_type": "stream",
     "text": [
      "4\n",
      "18\n",
      "9\n"
     ]
    }
   ],
   "source": [
    "#count() and find()\n",
    "s = \"Web Development Using Django\"\n",
    "print(s.count(\"e\"))\n",
    "print(s.find(\"i\"))\n",
    "print(s.find(\"o\"))"
   ]
  },
  {
   "cell_type": "code",
   "execution_count": 124,
   "metadata": {},
   "outputs": [
    {
     "name": "stdout",
     "output_type": "stream",
     "text": [
      "['Web', 'Development', 'Using', 'Django']\n",
      "W:e:b: :D:e:v:e:l:o:p:m:e:n:t: :U:s:i:n:g: :D:j:a:n:g:o\n",
      "9 8 7 6 5 4 3 2 1\n",
      "['W', 'b D', 'v', 'lopm', 'nt']\n",
      "['W', 'b Development']\n"
     ]
    }
   ],
   "source": [
    "#split() and join():\n",
    "s = \"Web Development Using Django\"\n",
    "print(s.split(\" \"))\n",
    "print(\":\".join(s))\n",
    "s1 = \"123456789\"\n",
    "print(\" \".join(reversed(s1)))\n",
    "s2 = \"Web Development\"\n",
    "print(s2.split('e'))\n",
    "print(s2.split(\"e\",1))"
   ]
  },
  {
   "cell_type": "code",
   "execution_count": 131,
   "metadata": {},
   "outputs": [
    {
     "name": "stdout",
     "output_type": "stream",
     "text": [
      "16\n"
     ]
    }
   ],
   "source": [
    "#Replace():\n",
    "s = \"Web Development Using Django\"\n",
    "s.replace(\"Development\",\"Designing\")\n",
    "#index()\n",
    "print(s.index(\"U\",1,20))     #index(string,start,end)"
   ]
  },
  {
   "cell_type": "code",
   "execution_count": 136,
   "metadata": {},
   "outputs": [
    {
     "name": "stdout",
     "output_type": "stream",
     "text": [
      "17\n",
      "24\n",
      "$$$Python is Awesome$$$$\n",
      "*****Python is Awesome******\n"
     ]
    }
   ],
   "source": [
    "#center():  It returns a string which is padded with the specified character.\n",
    "s = \"Python is Awesome\"\n",
    "print(len(s))\n",
    "s1=s.center(24,\"$\")\n",
    "s2 =s.center(28,\"*\")\n",
    "print(len(s1))\n",
    "print(s1)\n",
    "print(s2)"
   ]
  },
  {
   "cell_type": "code",
   "execution_count": null,
   "metadata": {},
   "outputs": [],
   "source": [
    "#String boolean functions:\n",
    "#islower()\n",
    "#isupper()\n",
    "#isalpha()\n",
    "#isalnum()\n",
    "#isdecimal()\n",
    "#isdigit()\n",
    "#isnumeric()\n",
    "#isspace()\n",
    "#isprintable()\n",
    "#istitle()"
   ]
  },
  {
   "cell_type": "code",
   "execution_count": 151,
   "metadata": {},
   "outputs": [
    {
     "name": "stdout",
     "output_type": "stream",
     "text": [
      "True\n",
      "False\n",
      "True\n",
      "True\n",
      "True\n",
      "True\n",
      "False\n",
      "False\n",
      "False\n",
      "True\n"
     ]
    }
   ],
   "source": [
    "s = \"apssdc\"\n",
    "print(s.islower())\n",
    "s1 = \"Apssdc\"\n",
    "print(s1.islower())\n",
    "s2 =\"DAD\"\n",
    "print(s2.isupper())\n",
    "s3 = \"12345\"\n",
    "s4 = \"String\"\n",
    "print(s3.isnumeric())\n",
    "print(s3.isdigit())\n",
    "print(s4.isalpha())\n",
    "s5 = \"123str\"       #alpha numerical string\n",
    "print(s5.isdigit())\n",
    "print(s5.isnumeric())\n",
    "print(s5.isalpha())\n",
    "print(s4.isalnum())"
   ]
  },
  {
   "cell_type": "code",
   "execution_count": 161,
   "metadata": {},
   "outputs": [
    {
     "name": "stdout",
     "output_type": "stream",
     "text": [
      "True\n",
      "True\n",
      "True\n"
     ]
    }
   ],
   "source": [
    "s = \" \"\n",
    "print(s.isspace())\n",
    "s = \"100\"\n",
    "print(s.isprintable())\n",
    "ss = \"Abc Daadkdlksdl\"\n",
    "print(ss.istitle())"
   ]
  },
  {
   "cell_type": "code",
   "execution_count": 178,
   "metadata": {},
   "outputs": [
    {
     "name": "stdout",
     "output_type": "stream",
     "text": [
      "Code is Enjoying\n",
      "Code is Enjoying \n",
      "  Code is Enjoying\n",
      "  Code is Enjoying \n"
     ]
    }
   ],
   "source": [
    "#strip(): it can remove the white spaces at both left and right sides\n",
    "s = \"  Code is Enjoying \"\n",
    "print(s.strip())\n",
    "print(s.lstrip())  #removes only at left side\n",
    "print(s.rstrip())  #removes only at right side"
   ]
  },
  {
   "cell_type": "code",
   "execution_count": 186,
   "metadata": {},
   "outputs": [
    {
     "name": "stdout",
     "output_type": "stream",
     "text": [
      "True\n",
      "False\n",
      "True\n",
      "PYTHON Is EASY TO dEBUG\n"
     ]
    }
   ],
   "source": [
    "#startswith and endswith\n",
    "s = \"python iS easy to Debug\"\n",
    "print(s.startswith(\"python\"))\n",
    "print(s.endswith(\"python\"))\n",
    "print(s.startswith(\"p\"))\n",
    "print(s.swapcase())"
   ]
  },
  {
   "cell_type": "code",
   "execution_count": 197,
   "metadata": {},
   "outputs": [
    {
     "name": "stdout",
     "output_type": "stream",
     "text": [
      "13\n",
      "coding is fun\n"
     ]
    }
   ],
   "source": [
    "#zfill(): it returns a copy of the string with \"0\" characters padded to the left.\n",
    "s = \"coding is fun\"\n",
    "print(len(s))\n",
    "s1=s.zfill(5)\n",
    "print(s1)"
   ]
  },
  {
   "cell_type": "code",
   "execution_count": 195,
   "metadata": {},
   "outputs": [
    {
     "data": {
      "text/plain": [
       "False"
      ]
     },
     "execution_count": 195,
     "metadata": {},
     "output_type": "execute_result"
    }
   ],
   "source": [
    "s= \"python is !\\n \\\\ Easy #637484959??\"\n",
    "s.isprintable()"
   ]
  },
  {
   "cell_type": "code",
   "execution_count": null,
   "metadata": {},
   "outputs": [],
   "source": [
    "9.#input: s = \"A P S S D C P Y T H O N\"\n",
    "#output: s =n O H T Y P C D S S P A"
   ]
  },
  {
   "cell_type": "code",
   "execution_count": null,
   "metadata": {},
   "outputs": [],
   "source": [
    "#Day- 6 (Today Tasks)\n",
    "\n",
    "1. find the given number is palindrome or not.\n",
    "2. check the given number is prime or not.\n",
    "3. Print the given year is leap or not.\n",
    "4. print the leap years in given range of years.\n",
    "5. print the math table as up to given number\n",
    "6. To check the given number is positive or not.\n",
    "7. Print the swaping of given actual numbers\n",
    "8. Program to do the basic calculator operations.\n",
    "9. Program to print the given string as like output string\n",
    "   #input: s = \"A P S S D C P Y T H O N\"\n",
    "   #output: s =n O H T Y P C D S S P A"
   ]
  },
  {
   "cell_type": "code",
   "execution_count": 196,
   "metadata": {},
   "outputs": [
    {
     "data": {
      "text/plain": [
       "'python'"
      ]
     },
     "execution_count": 196,
     "metadata": {},
     "output_type": "execute_result"
    }
   ],
   "source": [
    "s = \"python\"\n",
    "s.zfill(1)"
   ]
  },
  {
   "cell_type": "code",
   "execution_count": 198,
   "metadata": {},
   "outputs": [
    {
     "name": "stdout",
     "output_type": "stream",
     "text": [
      "N O H T Y P C D S S P P A\n"
     ]
    }
   ],
   "source": [
    "s=\"APPSSDCPYTHON\"\n",
    "\n",
    "print(\" \".join(reversed(s)))"
   ]
  },
  {
   "cell_type": "code",
   "execution_count": null,
   "metadata": {},
   "outputs": [],
   "source": []
  }
 ],
 "metadata": {
  "kernelspec": {
   "display_name": "Python 3",
   "language": "python",
   "name": "python3"
  },
  "language_info": {
   "codemirror_mode": {
    "name": "ipython",
    "version": 3
   },
   "file_extension": ".py",
   "mimetype": "text/x-python",
   "name": "python",
   "nbconvert_exporter": "python",
   "pygments_lexer": "ipython3",
   "version": "3.7.3"
  }
 },
 "nbformat": 4,
 "nbformat_minor": 2
}
