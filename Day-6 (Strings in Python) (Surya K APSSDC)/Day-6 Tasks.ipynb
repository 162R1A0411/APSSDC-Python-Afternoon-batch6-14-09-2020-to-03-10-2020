{
 "cells": [
  {
   "cell_type": "code",
   "execution_count": null,
   "metadata": {},
   "outputs": [],
   "source": [
    "#Day- 6 (Today Tasks)\n",
    "\n",
    "1. find the given number is palindrome or not.\n",
    "2. check the given number is prime or not.\n",
    "3. Print the given year is leap or not.\n",
    "4. print the leap years in given range of years.\n",
    "5. print the math table as up to given number\n",
    "6. To check the given number is positive or not.\n",
    "7. Print the swaping of given actual numbers\n",
    "8. Program to do the basic calculator operations."
   ]
  }
 ],
 "metadata": {
  "kernelspec": {
   "display_name": "Python 3",
   "language": "python",
   "name": "python3"
  },
  "language_info": {
   "codemirror_mode": {
    "name": "ipython",
    "version": 3
   },
   "file_extension": ".py",
   "mimetype": "text/x-python",
   "name": "python",
   "nbconvert_exporter": "python",
   "pygments_lexer": "ipython3",
   "version": "3.7.3"
  }
 },
 "nbformat": 4,
 "nbformat_minor": 2
}
