{
 "cells": [
  {
   "cell_type": "code",
   "execution_count": null,
   "metadata": {},
   "outputs": [],
   "source": [
    "#Agenda of Today:\n",
    "                        1. Functions in Python\n",
    "                        2. Strings in Python\n",
    "                        3. Problem Solving on them.\n",
    "            \n",
    "            Covered Topics: (Day 1 to Day 4)\n",
    "                1 . Python Basics\n",
    "                2.  Data types\n",
    "                3.  Variables\n",
    "                4.  Keywords\n",
    "                5.  Operators\n",
    "                5.  Conditonal Statements\n",
    "                6.  Iterations\n",
    "            \n",
    "                 "
   ]
  },
  {
   "cell_type": "code",
   "execution_count": null,
   "metadata": {},
   "outputs": [],
   "source": [
    "#Functions in Python:\n",
    "           # what is function?\n",
    "     A function is a  group of related statements or instructions that perform a spcific task\n",
    "        or\n",
    "        Block of code\n",
    "    #why we use functions?\n",
    "    1. Code Reusablity\n",
    "    2. Do Complex Tasks\n",
    "    3. Reduce Time Consuming\n",
    "    4. Easy to Debug\n",
    "    \n",
    "#Types of Functions:\n",
    "  1. Built-in functions (Developed by Developers)\n",
    "  2. User -Defined Functions (Developed by Users or Programmers)\n",
    "  3. Recursion Functions. (A function itself called)\n"
   ]
  },
  {
   "cell_type": "code",
   "execution_count": 1,
   "metadata": {},
   "outputs": [
    {
     "name": "stdout",
     "output_type": "stream",
     "text": [
      "Hello every one This is Surya From Apssdc\n"
     ]
    }
   ],
   "source": [
    "#Built-Functions:\n",
    "#1. print():\n",
    "print(\"Hello every one This is Surya From Apssdc\")"
   ]
  },
  {
   "cell_type": "code",
   "execution_count": 5,
   "metadata": {},
   "outputs": [
    {
     "name": "stdout",
     "output_type": "stream",
     "text": [
      "['False', 'None', 'True', 'and', 'as', 'assert', 'async', 'await', 'break', 'class', 'continue', 'def', 'del', 'elif', 'else', 'except', 'finally', 'for', 'from', 'global', 'if', 'import', 'in', 'is', 'lambda', 'nonlocal', 'not', 'or', 'pass', 'raise', 'return', 'try', 'while', 'with', 'yield'] \n",
      "\n",
      "35\n"
     ]
    }
   ],
   "source": [
    "import keyword\n",
    "print(keyword.kwlist,end=\" \")\n",
    "print(\"\\n\")\n",
    "print(len(keyword.kwlist))"
   ]
  },
  {
   "cell_type": "code",
   "execution_count": 8,
   "metadata": {},
   "outputs": [
    {
     "name": "stdout",
     "output_type": "stream",
     "text": [
      "3.7.3 (default, Apr 24 2019, 15:29:51) [MSC v.1915 64 bit (AMD64)]\n"
     ]
    }
   ],
   "source": [
    "#TO Check python version in jupiter notebook\n",
    "import sys\n",
    "print(sys.version)"
   ]
  },
  {
   "cell_type": "code",
   "execution_count": 10,
   "metadata": {},
   "outputs": [
    {
     "name": "stdout",
     "output_type": "stream",
     "text": [
      "3.7.3\n"
     ]
    }
   ],
   "source": [
    "from platform import python_version\n",
    "print(python_version())"
   ]
  },
  {
   "cell_type": "code",
   "execution_count": 11,
   "metadata": {},
   "outputs": [
    {
     "data": {
      "text/plain": [
       "6"
      ]
     },
     "execution_count": 11,
     "metadata": {},
     "output_type": "execute_result"
    }
   ],
   "source": [
    "#len() : to find the length of any sequnce \n",
    "s = \"apssdc\"\n",
    "len(s)"
   ]
  },
  {
   "cell_type": "code",
   "execution_count": 18,
   "metadata": {},
   "outputs": [
    {
     "name": "stdout",
     "output_type": "stream",
     "text": [
      "6\n",
      "100\n",
      "5000.55\n"
     ]
    }
   ],
   "source": [
    "#abs(): Its returns the absolute value of the given number.\n",
    "print(abs(-6))\n",
    "print(abs(100))\n",
    "print(abs(-5000.55))"
   ]
  },
  {
   "cell_type": "code",
   "execution_count": 25,
   "metadata": {},
   "outputs": [
    {
     "name": "stdout",
     "output_type": "stream",
     "text": [
      "True\n",
      "False\n",
      "True\n",
      "False\n",
      "True\n"
     ]
    }
   ],
   "source": [
    "#all(): Its returns True when all elements in the given iterable are true.\n",
    "# syntax: all(iterable)\n",
    "li = [1,2,4,5]\n",
    "print(all(li))\n",
    "print(all((0,1,0)))\n",
    "print((all((1,1,1))))\n",
    "print(all((0,0,0)))\n",
    "print(all(()))"
   ]
  },
  {
   "cell_type": "code",
   "execution_count": 31,
   "metadata": {},
   "outputs": [
    {
     "name": "stdout",
     "output_type": "stream",
     "text": [
      " Python is super\n",
      "' Python is super'\n"
     ]
    }
   ],
   "source": [
    "#ascii(): it returns a string containing printabble representattion of an object\n",
    "s1 = \" Python is super\"\n",
    "print(s1)\n",
    "print(ascii(s1))\n"
   ]
  },
  {
   "cell_type": "code",
   "execution_count": 35,
   "metadata": {},
   "outputs": [
    {
     "name": "stdout",
     "output_type": "stream",
     "text": [
      "65\n",
      "97\n",
      "90\n",
      "122\n"
     ]
    }
   ],
   "source": [
    "#ord(): it returns the ascii vales of given characters\n",
    "print(ord(\"A\"))\n",
    "print(ord(\"a\"))\n",
    "print(ord(\"Z\"))\n",
    "print(ord(\"z\"))"
   ]
  },
  {
   "cell_type": "code",
   "execution_count": 40,
   "metadata": {},
   "outputs": [
    {
     "name": "stdout",
     "output_type": "stream",
     "text": [
      "a\n",
      "E\n",
      "o\n",
      "d\n"
     ]
    }
   ],
   "source": [
    "#chr()\n",
    "print(chr(97))\n",
    "print(chr(69))\n",
    "print(chr(111))\n",
    "print(chr(100))"
   ]
  },
  {
   "cell_type": "code",
   "execution_count": 44,
   "metadata": {},
   "outputs": [
    {
     "name": "stdout",
     "output_type": "stream",
     "text": [
      "0b10\n",
      "0b1010\n",
      "0b10000111101000001101\n"
     ]
    }
   ],
   "source": [
    "#bin(): its method converts and returns the binary equivalent of a given integer\n",
    "print(bin(2))\n",
    "print(bin(10))\n",
    "print(bin(555533))"
   ]
  },
  {
   "cell_type": "code",
   "execution_count": 48,
   "metadata": {},
   "outputs": [
    {
     "name": "stdout",
     "output_type": "stream",
     "text": [
      "True\n",
      "False\n",
      "True\n",
      "True\n"
     ]
    }
   ],
   "source": [
    "#bool():\n",
    "#syntax: bool[value]\n",
    "print(bool([1]))\n",
    "print(bool((0)))\n",
    "print(bool([5.5]))\n",
    "print(bool((\"Easy string\")))"
   ]
  },
  {
   "cell_type": "code",
   "execution_count": 50,
   "metadata": {},
   "outputs": [
    {
     "name": "stdout",
     "output_type": "stream",
     "text": [
      "['__add__', '__class__', '__contains__', '__delattr__', '__delitem__', '__dir__', '__doc__', '__eq__', '__format__', '__ge__', '__getattribute__', '__getitem__', '__gt__', '__hash__', '__iadd__', '__imul__', '__init__', '__init_subclass__', '__iter__', '__le__', '__len__', '__lt__', '__mul__', '__ne__', '__new__', '__reduce__', '__reduce_ex__', '__repr__', '__reversed__', '__rmul__', '__setattr__', '__setitem__', '__sizeof__', '__str__', '__subclasshook__', 'append', 'clear', 'copy', 'count', 'extend', 'index', 'insert', 'pop', 'remove', 'reverse', 'sort'] "
     ]
    }
   ],
   "source": [
    "#dir(): To view the all directories in a given sequnce:\n",
    "print(dir(list),end=\" \")"
   ]
  },
  {
   "cell_type": "code",
   "execution_count": 54,
   "metadata": {},
   "outputs": [
    {
     "name": "stdout",
     "output_type": "stream",
     "text": [
      "apssdc"
     ]
    }
   ],
   "source": [
    "#enumerate() function: its add counter to an iterable and returns it\n",
    "s = \"apssdc\"\n",
    "for ch in s:\n",
    "    print(ch,end=\"\")\n",
    "#syntax:\n",
    "enumerate(iterable,start=0)"
   ]
  },
  {
   "cell_type": "code",
   "execution_count": 60,
   "metadata": {},
   "outputs": [
    {
     "name": "stdout",
     "output_type": "stream",
     "text": [
      "[1, 2, 4, 5, 6, 7, 8, 9]\n",
      "[(0, 1), (1, 2), (2, 4), (3, 5), (4, 6), (5, 7), (6, 8), (7, 9)]\n"
     ]
    }
   ],
   "source": [
    "li = [1,2,4,5,6,7,8,9]\n",
    "print(li)\n",
    "print(list(enumerate(li)))"
   ]
  },
  {
   "cell_type": "code",
   "execution_count": 67,
   "metadata": {},
   "outputs": [
    {
     "name": "stdout",
     "output_type": "stream",
     "text": [
      "111\n",
      "1048\n"
     ]
    }
   ],
   "source": [
    "#eval(): method parses the expression and returns the values\n",
    "x = 10\n",
    "print(eval('x+1+x**2'))\n",
    "print(eval('x^2+x**3+4*x'))"
   ]
  },
  {
   "cell_type": "code",
   "execution_count": null,
   "metadata": {},
   "outputs": [],
   "source": [
    "#filter():\n",
    "#syntax: \n",
    "#filter(function, iterable)\n",
    "alpha = [\"a\",\"b\",\"e\",\"i\",\"s\",\"u\",\"w\"]\n"
   ]
  },
  {
   "cell_type": "code",
   "execution_count": 1,
   "metadata": {},
   "outputs": [
    {
     "name": "stdout",
     "output_type": "stream",
     "text": [
      "Help on class list in module builtins:\n",
      "\n",
      "class list(object)\n",
      " |  list(iterable=(), /)\n",
      " |  \n",
      " |  Built-in mutable sequence.\n",
      " |  \n",
      " |  If no argument is given, the constructor creates a new empty list.\n",
      " |  The argument must be an iterable if specified.\n",
      " |  \n",
      " |  Methods defined here:\n",
      " |  \n",
      " |  __add__(self, value, /)\n",
      " |      Return self+value.\n",
      " |  \n",
      " |  __contains__(self, key, /)\n",
      " |      Return key in self.\n",
      " |  \n",
      " |  __delitem__(self, key, /)\n",
      " |      Delete self[key].\n",
      " |  \n",
      " |  __eq__(self, value, /)\n",
      " |      Return self==value.\n",
      " |  \n",
      " |  __ge__(self, value, /)\n",
      " |      Return self>=value.\n",
      " |  \n",
      " |  __getattribute__(self, name, /)\n",
      " |      Return getattr(self, name).\n",
      " |  \n",
      " |  __getitem__(...)\n",
      " |      x.__getitem__(y) <==> x[y]\n",
      " |  \n",
      " |  __gt__(self, value, /)\n",
      " |      Return self>value.\n",
      " |  \n",
      " |  __iadd__(self, value, /)\n",
      " |      Implement self+=value.\n",
      " |  \n",
      " |  __imul__(self, value, /)\n",
      " |      Implement self*=value.\n",
      " |  \n",
      " |  __init__(self, /, *args, **kwargs)\n",
      " |      Initialize self.  See help(type(self)) for accurate signature.\n",
      " |  \n",
      " |  __iter__(self, /)\n",
      " |      Implement iter(self).\n",
      " |  \n",
      " |  __le__(self, value, /)\n",
      " |      Return self<=value.\n",
      " |  \n",
      " |  __len__(self, /)\n",
      " |      Return len(self).\n",
      " |  \n",
      " |  __lt__(self, value, /)\n",
      " |      Return self<value.\n",
      " |  \n",
      " |  __mul__(self, value, /)\n",
      " |      Return self*value.\n",
      " |  \n",
      " |  __ne__(self, value, /)\n",
      " |      Return self!=value.\n",
      " |  \n",
      " |  __repr__(self, /)\n",
      " |      Return repr(self).\n",
      " |  \n",
      " |  __reversed__(self, /)\n",
      " |      Return a reverse iterator over the list.\n",
      " |  \n",
      " |  __rmul__(self, value, /)\n",
      " |      Return value*self.\n",
      " |  \n",
      " |  __setitem__(self, key, value, /)\n",
      " |      Set self[key] to value.\n",
      " |  \n",
      " |  __sizeof__(self, /)\n",
      " |      Return the size of the list in memory, in bytes.\n",
      " |  \n",
      " |  append(self, object, /)\n",
      " |      Append object to the end of the list.\n",
      " |  \n",
      " |  clear(self, /)\n",
      " |      Remove all items from list.\n",
      " |  \n",
      " |  copy(self, /)\n",
      " |      Return a shallow copy of the list.\n",
      " |  \n",
      " |  count(self, value, /)\n",
      " |      Return number of occurrences of value.\n",
      " |  \n",
      " |  extend(self, iterable, /)\n",
      " |      Extend list by appending elements from the iterable.\n",
      " |  \n",
      " |  index(self, value, start=0, stop=9223372036854775807, /)\n",
      " |      Return first index of value.\n",
      " |      \n",
      " |      Raises ValueError if the value is not present.\n",
      " |  \n",
      " |  insert(self, index, object, /)\n",
      " |      Insert object before index.\n",
      " |  \n",
      " |  pop(self, index=-1, /)\n",
      " |      Remove and return item at index (default last).\n",
      " |      \n",
      " |      Raises IndexError if list is empty or index is out of range.\n",
      " |  \n",
      " |  remove(self, value, /)\n",
      " |      Remove first occurrence of value.\n",
      " |      \n",
      " |      Raises ValueError if the value is not present.\n",
      " |  \n",
      " |  reverse(self, /)\n",
      " |      Reverse *IN PLACE*.\n",
      " |  \n",
      " |  sort(self, /, *, key=None, reverse=False)\n",
      " |      Stable sort *IN PLACE*.\n",
      " |  \n",
      " |  ----------------------------------------------------------------------\n",
      " |  Static methods defined here:\n",
      " |  \n",
      " |  __new__(*args, **kwargs) from builtins.type\n",
      " |      Create and return a new object.  See help(type) for accurate signature.\n",
      " |  \n",
      " |  ----------------------------------------------------------------------\n",
      " |  Data and other attributes defined here:\n",
      " |  \n",
      " |  __hash__ = None\n",
      "\n"
     ]
    }
   ],
   "source": [
    "#help():\n",
    "help(list)"
   ]
  },
  {
   "cell_type": "code",
   "execution_count": 20,
   "metadata": {},
   "outputs": [
    {
     "name": "stdout",
     "output_type": "stream",
     "text": [
      "2869373935496\n",
      "140717777327072\n",
      "140717777326944\n",
      "7\n",
      "2\n",
      "19\n",
      "32\n",
      "['c', 'd', 's', 's', 'p', 'a']\n",
      "[8, 7, 6, 5, 3, 2]\n",
      "<class 'str'>\n",
      "<class 'list'>\n"
     ]
    }
   ],
   "source": [
    "#id(): its returns the identify(unique intger) of an object\n",
    "li = [2,4,6,7]\n",
    "print(id([7]))\n",
    "print(id(6))\n",
    "print(id(2))\n",
    "print(max(li))\n",
    "print(min(li))\n",
    "print(sum(li))\n",
    "print(pow(2,5))\n",
    "s1 = \"apssdc\"\n",
    "print(list(reversed(s1)))\n",
    "li = [2,3,5,6,7,8]\n",
    "print(list(reversed(li)))\n",
    "print(type(s1))\n",
    "print(type(li))"
   ]
  },
  {
   "cell_type": "code",
   "execution_count": null,
   "metadata": {},
   "outputs": [],
   "source": [
    "#User - Defined functions:\n",
    "#       for declaring the functions in python we must use def keyword:\n",
    "def function_name(parameters):   #(formal parameters) : its indicates indention \n",
    "    \"\"\"this is demo function\"\"\"     #doc string\n",
    "    block of code \n",
    "    return                         #its returns the value from function\n",
    "function_name(parameters)   #function calling  (actual parameters)\n",
    "\n",
    "#Note: \n",
    "we dont use the keywords as function names "
   ]
  },
  {
   "cell_type": "code",
   "execution_count": 25,
   "metadata": {},
   "outputs": [
    {
     "name": "stdout",
     "output_type": "stream",
     "text": [
      "Enter your Namepython\n",
      "Hello,python Good Evening to All\n"
     ]
    }
   ],
   "source": [
    "#example:\n",
    "def displayname(name):     #name - formal parameter\n",
    "    \"\"\"this function to display names given by user\"\"\"\n",
    "    print(\"Hello,\" + name + \" Good Evening to All\")\n",
    "#displayname(\"surya\")     #surya - actual parameter  - static value\n",
    "displayname(input(\"Enter your Name\"))     #- Dynamice parameter passing at runtime"
   ]
  },
  {
   "cell_type": "code",
   "execution_count": 31,
   "metadata": {},
   "outputs": [
    {
     "name": "stdout",
     "output_type": "stream",
     "text": [
      "this function to display names given by user\n",
      "displayname\n",
      "['__annotations__', '__call__', '__class__', '__closure__', '__code__', '__defaults__', '__delattr__', '__dict__', '__dir__', '__doc__', '__eq__', '__format__', '__ge__', '__get__', '__getattribute__', '__globals__', '__gt__', '__hash__', '__init__', '__init_subclass__', '__kwdefaults__', '__le__', '__lt__', '__module__', '__name__', '__ne__', '__new__', '__qualname__', '__reduce__', '__reduce_ex__', '__repr__', '__setattr__', '__sizeof__', '__str__', '__subclasshook__'] \n",
      "\n",
      "['__call__', '__class__', '__delattr__', '__dir__', '__doc__', '__eq__', '__format__', '__ge__', '__getattribute__', '__gt__', '__hash__', '__init__', '__init_subclass__', '__le__', '__lt__', '__module__', '__name__', '__ne__', '__new__', '__qualname__', '__reduce__', '__reduce_ex__', '__repr__', '__self__', '__setattr__', '__sizeof__', '__str__', '__subclasshook__', '__text_signature__'] "
     ]
    }
   ],
   "source": [
    "#function attribues:\n",
    "print(displayname.__doc__)\n",
    "print(displayname.__name__)\n",
    "print(dir(displayname),end=\" \")\n",
    "print(\"\\n\")\n",
    "print(dir(abs),end= \" \")"
   ]
  },
  {
   "cell_type": "code",
   "execution_count": 37,
   "metadata": {},
   "outputs": [
    {
     "data": {
      "text/plain": [
       "'Hello Students'"
      ]
     },
     "execution_count": 37,
     "metadata": {},
     "output_type": "execute_result"
    }
   ],
   "source": [
    "#ex: function with out parameters:\n",
    "def hello():\n",
    "    return \"Hello Students\"\n",
    "    #print(\"Hi...Buddiees\")\n",
    "hello()"
   ]
  },
  {
   "cell_type": "code",
   "execution_count": 46,
   "metadata": {},
   "outputs": [
    {
     "name": "stdout",
     "output_type": "stream",
     "text": [
      "enter x value50\n",
      "enter y value50.6\n"
     ]
    },
    {
     "data": {
      "text/plain": [
       "100"
      ]
     },
     "execution_count": 46,
     "metadata": {},
     "output_type": "execute_result"
    }
   ],
   "source": [
    "#Function with Parameters:\n",
    "def add_ofv(x,y):\n",
    "    return int(x+y)                       #type casting\n",
    "x =int(input(\"enter x value\"))\n",
    "y =float(input(\"enter y value\"))\n",
    "add_ofv(x,y)"
   ]
  },
  {
   "cell_type": "code",
   "execution_count": 51,
   "metadata": {},
   "outputs": [
    {
     "data": {
      "text/plain": [
       "(170, 270, 440)"
      ]
     },
     "execution_count": 51,
     "metadata": {},
     "output_type": "execute_result"
    }
   ],
   "source": [
    "#function with multiple parameters:\n",
    "def add_of3(a,b,c):\n",
    "    a = b+c\n",
    "    b = c+a\n",
    "    c = a+b\n",
    "    return (a,b,c)\n",
    "add_of3(50,70,100)"
   ]
  },
  {
   "cell_type": "code",
   "execution_count": null,
   "metadata": {},
   "outputs": [],
   "source": [
    "#return statement: \n",
    "#syntax:\n",
    "  return [expression_list] - returns a value\n",
    "  return           - returns NONE object"
   ]
  },
  {
   "cell_type": "code",
   "execution_count": 53,
   "metadata": {},
   "outputs": [
    {
     "name": "stdout",
     "output_type": "stream",
     "text": [
      "Hello I am from AB()\n",
      "5\n",
      "Hello I am from AB()\n",
      "500\n"
     ]
    }
   ],
   "source": [
    "#exa:\n",
    "def AB():\n",
    "    print(\"Hello I am from AB()\")\n",
    "    return 5\n",
    "def CD():\n",
    "    return 100 * AB()\n",
    "print(AB())\n",
    "print(CD())"
   ]
  },
  {
   "cell_type": "code",
   "execution_count": 2,
   "metadata": {},
   "outputs": [
    {
     "name": "stdout",
     "output_type": "stream",
     "text": [
      "enter value of num10\n",
      "the factorial of 10 is 3628800\n"
     ]
    }
   ],
   "source": [
    "#Recursion:(a function itself called is called as recursive function )\n",
    "def factorial(x):\n",
    "    \"\"\"This function finds the factorial of a given number\"\"\"\n",
    "    if x == 1:\n",
    "        return 1\n",
    "    else:\n",
    "        return (x *factorial(x-1))      #recursive function call\n",
    "    \n",
    "num = int(input(\"enter value of num\"))\n",
    "print(\"the factorial of\",num,\"is\",factorial(num))"
   ]
  },
  {
   "cell_type": "code",
   "execution_count": null,
   "metadata": {},
   "outputs": [],
   "source": [
    "#types of arguments:\n",
    "1. default arguments (these values are fixed at function defintion)\n",
    "2. keyword arguments ( these values are  fixed at fuction calling)\n",
    "3. arbitary arguments ( one argument name can handle multiple values of arguments)"
   ]
  },
  {
   "cell_type": "code",
   "execution_count": 9,
   "metadata": {},
   "outputs": [
    {
     "name": "stdout",
     "output_type": "stream",
     "text": [
      "Hello students ,please Come to Office\n"
     ]
    }
   ],
   "source": [
    "#default:\n",
    "def display(name=\" students \",msg=\"please Come to Office\"):\n",
    "    print(\"Hello\"+name+\",\"+msg)\n",
    "display()"
   ]
  },
  {
   "cell_type": "code",
   "execution_count": 11,
   "metadata": {},
   "outputs": [
    {
     "name": "stdout",
     "output_type": "stream",
     "text": [
      "hello Mr.student,please complete tasks\n"
     ]
    }
   ],
   "source": [
    "#keyword:\n",
    "def display(name,msg):\n",
    "    print(\"hello\"+name+\",\"+msg)\n",
    "    \n",
    "display(msg=\"please complete tasks\",name=\" Mr.student\")"
   ]
  },
  {
   "cell_type": "code",
   "execution_count": 12,
   "metadata": {},
   "outputs": [
    {
     "data": {
      "text/plain": [
       "('dhoni', 'Kohli', 'Rohit', 'pandey', 'dhavan')"
      ]
     },
     "execution_count": 12,
     "metadata": {},
     "output_type": "execute_result"
    }
   ],
   "source": [
    "#arbitary: (it can be done by * astrick symbol)\n",
    "def indianteam(*names):\n",
    "    return names\n",
    "indianteam(\"dhoni\",\"Kohli\",\"Rohit\",\"pandey\",\"dhavan\")"
   ]
  },
  {
   "cell_type": "code",
   "execution_count": null,
   "metadata": {},
   "outputs": [],
   "source": []
  }
 ],
 "metadata": {
  "kernelspec": {
   "display_name": "Python 3",
   "language": "python",
   "name": "python3"
  },
  "language_info": {
   "codemirror_mode": {
    "name": "ipython",
    "version": 3
   },
   "file_extension": ".py",
   "mimetype": "text/x-python",
   "name": "python",
   "nbconvert_exporter": "python",
   "pygments_lexer": "ipython3",
   "version": "3.7.3"
  }
 },
 "nbformat": 4,
 "nbformat_minor": 2
}
