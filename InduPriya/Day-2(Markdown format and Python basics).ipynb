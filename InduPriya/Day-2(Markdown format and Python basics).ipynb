{
 "cells": [
  {
   "cell_type": "markdown",
   "metadata": {},
   "source": [
    "## Today Agenda\n",
    "\n",
    "- Markdown format\n",
    "- Python Basics\n",
    "    - Variables\n",
    "    - Keywords\n",
    "    "
   ]
  },
  {
   "cell_type": "markdown",
   "metadata": {},
   "source": [
    "- Literate Programming :\n",
    "    - The combination of both documentation and coding"
   ]
  },
  {
   "cell_type": "markdown",
   "metadata": {},
   "source": [
    "- Markdown format\n",
    "    - It is a light-weight and popular markup language\n",
    "    - It is similar to HTML mode of markup tags\n",
    "    "
   ]
  },
  {
   "cell_type": "markdown",
   "metadata": {},
   "source": [
    "### Short cut keys:\n",
    "    - esc + h --> To visible list of shortcut keys in markdown format\n",
    "    \n",
    "### Cell modes:\n",
    "\n",
    "### code- To run the python code\n",
    "### Markdown- To prepare documentation\n",
    "\n",
    "### For running cells -\n",
    "- shift + enter\n",
    "- ctrl +enter\n",
    "    \n",
    "    \n",
    "    \n",
    "    \n",
    "    "
   ]
  },
  {
   "cell_type": "code",
   "execution_count": null,
   "metadata": {},
   "outputs": [],
   "source": [
    "# HTML \n",
    "\n",
    "<h1>.....<h6>\n",
    "\n",
    "\n"
   ]
  },
  {
   "cell_type": "markdown",
   "metadata": {},
   "source": [
    "### In Markdown Heading (# , = ,- )"
   ]
  },
  {
   "cell_type": "markdown",
   "metadata": {},
   "source": [
    "\n",
    "    \n",
    "# Welcome to Python Online Session\n",
    "## Welcome to Python Online Session\n",
    "### Welcome to Python Online Session\n",
    "#### Welcome to Python Online Session\n",
    "##### Welcome to Python Online Session\n",
    "###### Welcome to Python Online Session\n",
    "####### Welcome to Python Online Session\n",
    "Welcome to Python Online Session\n",
    "\n",
    "Welcome to Python Online Session\n",
    "=============================\n",
    "\n",
    "\n",
    "Welcome to Python Online Session\n",
    "---------------------------------------------------\n",
    "\n"
   ]
  },
  {
   "cell_type": "markdown",
   "metadata": {},
   "source": [
    "<h1>Hello</h1>\n",
    "\n",
    "# Hello\n",
    "<h2>Hello</h2>\n",
    "<h3>Hello</h3>\n",
    "<h4>Hello</h4>\n",
    "<h5>Hello</h5>\n",
    "<h6>Hello</h6>\n",
    "<h7>Hello</h7>\n",
    "<h8>Hello</h8>\n"
   ]
  },
  {
   "cell_type": "markdown",
   "metadata": {},
   "source": [
    "## Paragraph(No symbol is using this)"
   ]
  },
  {
   "cell_type": "markdown",
   "metadata": {},
   "source": [
    "Hai Guys , Welcome to Online Python Programming by APSSDC conducted by INDUPRIYA...Hai Guys , Welcome to Online Python Programming by APSSDC conducted by INDUPRIYA...Hai Guys , \n",
    "\n",
    "\n",
    "\n",
    "\n",
    "Welcome to Online Python Programming by APSSDC conducted by INDUPRIYAHai Guys , Welcome to Online Python Programming by APSSDC conducted by INDUPRIYA"
   ]
  },
  {
   "cell_type": "markdown",
   "metadata": {},
   "source": [
    "###  Break tag (<br>)"
   ]
  },
  {
   "cell_type": "markdown",
   "metadata": {},
   "source": [
    "\n",
    "Welcome to Online Python Programming by APSSDC conducted by INDUPRIYAHai Guys , Welcome to Online Python Programming by APSSDC conducted by INDUPRIYA..\n",
    "Welcome to Online Python Programming by APSSDC conducted by INDUPRIYAHai Guys , Welcome to Online Python Programming by APSSDC conducted by INDUPRIYA....<br>\n",
    "Welcome to Online <br> Python Programming by APSSDC conducted by INDUPRIYAHai Guys , Welcome to Online Python Programming by APSSDC conducted by INDUPRIYA"
   ]
  },
  {
   "cell_type": "markdown",
   "metadata": {},
   "source": [
    "### Bold (** **)  or (__ __)"
   ]
  },
  {
   "cell_type": "markdown",
   "metadata": {},
   "source": [
    "Welcome to Online <br> **Python Programming** by **APSSDC** conducted by **INDUPRIYA**.....Hai Guys , Welcome to Online Python Programming by APSSDC conducted by INDUPRIYA"
   ]
  },
  {
   "cell_type": "markdown",
   "metadata": {},
   "source": [
    "### Itallic (* *) or (_ _)"
   ]
  },
  {
   "cell_type": "markdown",
   "metadata": {},
   "source": [
    "Welcome to Online <br> *Python Programming* by *APSSDC* conducted by **INDUPRIYA**.....Hai Guys , Welcome to Online Python Programming by APSSDC conducted by INDUPRIYA"
   ]
  },
  {
   "cell_type": "code",
   "execution_count": null,
   "metadata": {},
   "outputs": [],
   "source": [
    "### Both bold and Itallic(*** ***) or (___ ___)"
   ]
  },
  {
   "cell_type": "markdown",
   "metadata": {},
   "source": [
    "Welcome to Online <br> **Python Programming** by ***APSSDC*** conducted by ***INDUPRIYA***.....Hai ___Guys___ , Welcome to Online Python Programming by APSSDC conducted by INDUPRIYA"
   ]
  },
  {
   "cell_type": "markdown",
   "metadata": {},
   "source": [
    "#### Block Quotes (>)\n"
   ]
  },
  {
   "cell_type": "markdown",
   "metadata": {},
   "source": [
    "> Welcome to Online <br> **Python Programming** by ***APSSDC*** conducted by ***INDUPRIYA***.....Hai ___Guys___ , Welcome to Online Python Programming by APSSDC conducted by INDUPRIYA"
   ]
  },
  {
   "cell_type": "markdown",
   "metadata": {},
   "source": [
    "> Welcome to Online <br> **Python Programming** by ***APSSDC*** conducted by ***INDUPRIYA***.....Hai ___Guys___ , Welcome to Online Python Programming by APSSDC conducted by INDUPRIYA\n",
    "\n",
    ">> Welcome to Online <br> **Python Programming** by ***APSSDC*** conducted by ***INDUPRIYA***.....Hai ___Guys___ , Welcome to Online Python Programming by APSSDC conducted by INDUPRIYA\n",
    "\n",
    ">>> Welcome to Online <br> **Python Programming** by ***APSSDC*** conducted by ***INDUPRIYA***.....Hai ___Guys___ , Welcome to Online Python Programming by APSSDC conducted by INDUPRIYA\n",
    "\n",
    ">>>> Welcome to Online <br> **Python Programming** by ***APSSDC*** conducted by ***INDUPRIYA***.....Hai ___Guys___ , Welcome to Online Python Programming by APSSDC conducted by INDUPRIYA"
   ]
  },
  {
   "cell_type": "markdown",
   "metadata": {},
   "source": [
    "### Order List\n",
    "\n",
    "<ol>\n",
    "    <li>APSSDC</li>\n",
    "    <li>Python Programming</li>\n",
    "    <li>Indu Priya</li>\n",
    "    <li>Lucky</li>\n",
    "    <li>Mouni</li>\n",
    "    <li>MOM</li>\n",
    "</ol>"
   ]
  },
  {
   "cell_type": "markdown",
   "metadata": {},
   "source": [
    "1. ### APSSDC\n",
    "2. Python Programming\n",
    "3. **InduPriya**\n",
    "4. *Lucky*\n",
    "5. Mouni\n",
    "6. ***MOM***"
   ]
  },
  {
   "cell_type": "markdown",
   "metadata": {},
   "source": [
    "### Unorder List (- , * , + )\n",
    "\n",
    "<ul>\n",
    "    <li>APSSDC</li>\n",
    "    <li>Python Programming</li>\n",
    "    <li>Indu Priya</li>\n",
    "    <li>Lucky</li>\n",
    "    <li>Mouni</li>\n",
    "    <li>MOM</li>\n",
    "</ul>"
   ]
  },
  {
   "cell_type": "markdown",
   "metadata": {},
   "source": [
    "- ### APSSDC\n",
    "-  Python Programming\n",
    "-  **InduPriya**\n",
    "- *Lucky*\n",
    "- Mouni\n",
    "- ***MOM***"
   ]
  },
  {
   "cell_type": "markdown",
   "metadata": {},
   "source": [
    "+ ### APSSDC\n",
    "+  Python Programming\n",
    "+  **InduPriya**\n",
    "+ *Lucky*\n",
    "+ Mouni\n",
    "+ ***MOM***"
   ]
  },
  {
   "cell_type": "markdown",
   "metadata": {},
   "source": [
    "### Links\n",
    "\n"
   ]
  },
  {
   "cell_type": "markdown",
   "metadata": {},
   "source": [
    "<a href = \"https://www.apssdc.in/home/\" > APSSDC</a>\n",
    "\n",
    "<a href = \"https://www.google.com/\" > GOOGLE</a>\n",
    "\n",
    "\n",
    "#### Another way\n",
    "\n",
    "[APSSDC](https://www.apssdc.in/home/)"
   ]
  },
  {
   "cell_type": "markdown",
   "metadata": {},
   "source": [
    "### Images "
   ]
  },
  {
   "cell_type": "markdown",
   "metadata": {},
   "source": [
    "<img src = \"apssdc.png\"/>\n",
    "\n",
    "<img src = \"python.png\"/>\n",
    "\n",
    "<img src = \"python.jpg\"/>\n",
    "\n",
    "<img src = \"python.jpg\" height=350 width=350/>\n",
    "\n",
    "<img src = \"apssdc.png\" height=50 width=50 align=\"right\"/>\n",
    "\n",
    "<img src = \"apssdc.png\" height=50 width=50 align=\"left\"/>\n",
    "\n",
    "<img src = \"apssdc.png\" height=50 width=50 />\n",
    "\n",
    "\n",
    "\n",
    "\n",
    "### In markdown\n",
    "\n",
    "![](python.jpg)\n",
    "\n",
    "![This is python image](python.png)  # If we gave wrong image address\n",
    "\n",
    "![This is python image](python.jpg)\n",
    "\n"
   ]
  },
  {
   "cell_type": "markdown",
   "metadata": {},
   "source": [
    "### Video\n",
    "\n",
    "<video controls src=\"myvideo.mp4\"/>\n",
    "\n",
    "\n"
   ]
  },
  {
   "cell_type": "markdown",
   "metadata": {},
   "source": [
    "<video controls src=\"myvideo.mp4\" height=\"50\" width=\"50\"/>"
   ]
  },
  {
   "cell_type": "markdown",
   "metadata": {},
   "source": [
    "### Audio"
   ]
  },
  {
   "cell_type": "markdown",
   "metadata": {},
   "source": [
    "<audio controls src=\"myaudio.mp3\"/>"
   ]
  },
  {
   "cell_type": "markdown",
   "metadata": {},
   "source": [
    "## Table Format"
   ]
  },
  {
   "cell_type": "markdown",
   "metadata": {},
   "source": [
    "\n",
    "<th>\n",
    "    <td>One</td>\n",
    "    <td>One</td>\n",
    "    <td>One</td>\n",
    "</th>"
   ]
  },
  {
   "cell_type": "markdown",
   "metadata": {},
   "source": [
    "<tr>\n",
    " <th> InduPriya</th>\n",
    " <th> RojaRani</th>\n",
    " <th> Mounika</th>\n",
    " <th> Lucky</th>\n",
    " <th> Narayana</th>\n",
    " </tr>\n"
   ]
  },
  {
   "cell_type": "markdown",
   "metadata": {},
   "source": [
    "<tr>\n",
    " <td><img src=\"python.jpg\" height=\"105\" width=\"150\"></td>\n",
    " <td>InduPriya</td>\n",
    " <td> Technical Skill Trainer cum Developer</td>\n",
    " <td>sal:50000/</td>\n",
    " <td> <input type=\"button\" value=\"Submit\"</td>\n",
    " </tr>"
   ]
  },
  {
   "cell_type": "markdown",
   "metadata": {},
   "source": [
    "## Python Basics"
   ]
  },
  {
   "cell_type": "markdown",
   "metadata": {},
   "source": [
    "### Variables\n",
    "\n",
    "- Python is a case sensitive(small letters are not equal to capital letters)\n",
    "- Variable is used to\n",
    "    - Holds value\n",
    "    - Assign a value\n",
    "    - refer memory location\n",
    "- Syn:\n",
    "    - **variable name = value**\n",
    "    \n",
    "    \n",
    "#### Rules for creating Variables\n",
    "\n",
    "- Variable cannot be start with special character or digit or number\n",
    "- It cant accept/allow spaces\n",
    "- We have to use only one special characer (_)\n",
    "- We can start variable with **Undescore** or **alphabets**\n",
    "- "
   ]
  },
  {
   "cell_type": "code",
   "execution_count": 5,
   "metadata": {},
   "outputs": [
    {
     "ename": "SyntaxError",
     "evalue": "invalid syntax (<ipython-input-5-98a33f8ee689>, line 1)",
     "output_type": "error",
     "traceback": [
      "\u001b[1;36m  File \u001b[1;32m\"<ipython-input-5-98a33f8ee689>\"\u001b[1;36m, line \u001b[1;32m1\u001b[0m\n\u001b[1;33m    variable name= 10\u001b[0m\n\u001b[1;37m                ^\u001b[0m\n\u001b[1;31mSyntaxError\u001b[0m\u001b[1;31m:\u001b[0m invalid syntax\n"
     ]
    }
   ],
   "source": [
    "variable name= 10 # variable not allow spaces"
   ]
  },
  {
   "cell_type": "code",
   "execution_count": 6,
   "metadata": {},
   "outputs": [
    {
     "ename": "SyntaxError",
     "evalue": "invalid syntax (<ipython-input-6-2c590e9f0a1d>, line 1)",
     "output_type": "error",
     "traceback": [
      "\u001b[1;36m  File \u001b[1;32m\"<ipython-input-6-2c590e9f0a1d>\"\u001b[1;36m, line \u001b[1;32m1\u001b[0m\n\u001b[1;33m    1variablename= 10\u001b[0m\n\u001b[1;37m                ^\u001b[0m\n\u001b[1;31mSyntaxError\u001b[0m\u001b[1;31m:\u001b[0m invalid syntax\n"
     ]
    }
   ],
   "source": [
    "10variablename= 10  # starting with number"
   ]
  },
  {
   "cell_type": "code",
   "execution_count": 7,
   "metadata": {},
   "outputs": [
    {
     "ename": "SyntaxError",
     "evalue": "invalid syntax (<ipython-input-7-ea88de52c4a1>, line 1)",
     "output_type": "error",
     "traceback": [
      "\u001b[1;36m  File \u001b[1;32m\"<ipython-input-7-ea88de52c4a1>\"\u001b[1;36m, line \u001b[1;32m1\u001b[0m\n\u001b[1;33m    @a=10\u001b[0m\n\u001b[1;37m      ^\u001b[0m\n\u001b[1;31mSyntaxError\u001b[0m\u001b[1;31m:\u001b[0m invalid syntax\n"
     ]
    }
   ],
   "source": [
    "@a=10 # special character"
   ]
  },
  {
   "cell_type": "code",
   "execution_count": 8,
   "metadata": {},
   "outputs": [
    {
     "ename": "SyntaxError",
     "evalue": "invalid syntax (<ipython-input-8-32d471839057>, line 1)",
     "output_type": "error",
     "traceback": [
      "\u001b[1;36m  File \u001b[1;32m\"<ipython-input-8-32d471839057>\"\u001b[1;36m, line \u001b[1;32m1\u001b[0m\n\u001b[1;33m    variable$name= 10\u001b[0m\n\u001b[1;37m            ^\u001b[0m\n\u001b[1;31mSyntaxError\u001b[0m\u001b[1;31m:\u001b[0m invalid syntax\n"
     ]
    }
   ],
   "source": [
    "variable$name= 10"
   ]
  },
  {
   "cell_type": "code",
   "execution_count": 15,
   "metadata": {},
   "outputs": [],
   "source": [
    "variable_name=10\n",
    "variable_name=50\n",
    "variable_name111=100"
   ]
  },
  {
   "cell_type": "code",
   "execution_count": 14,
   "metadata": {},
   "outputs": [
    {
     "data": {
      "text/plain": [
       "50"
      ]
     },
     "execution_count": 14,
     "metadata": {},
     "output_type": "execute_result"
    }
   ],
   "source": [
    "# we can call variable name with that name or use print option\n",
    "\n",
    "variable_name\n",
    "\n",
    "# python stores last  updates values"
   ]
  },
  {
   "cell_type": "code",
   "execution_count": 17,
   "metadata": {},
   "outputs": [
    {
     "data": {
      "text/plain": [
       "100"
      ]
     },
     "execution_count": 17,
     "metadata": {},
     "output_type": "execute_result"
    }
   ],
   "source": [
    "variable_name\n",
    "variable_name111"
   ]
  },
  {
   "cell_type": "code",
   "execution_count": 21,
   "metadata": {},
   "outputs": [
    {
     "name": "stdout",
     "output_type": "stream",
     "text": [
      "variable_name\n",
      "1@@#$%$%^%DFDHYJUFRYHTYJKKOKMHTRY#$R#W$^^*&&(())\n",
      "50\n",
      "100\n"
     ]
    }
   ],
   "source": [
    "# we want a multiple variable outputs in one cell use print option\n",
    "\n",
    "print(\"variable_name\")\n",
    "print(\"1@@#$%$%^%DFDHYJUFRYHTYJKKOKMHTRY#$R#W$^^*&&(())\")\n",
    "print(variable_name)\n",
    "print(variable_name111)"
   ]
  },
  {
   "cell_type": "code",
   "execution_count": 51,
   "metadata": {},
   "outputs": [
    {
     "name": "stdout",
     "output_type": "stream",
     "text": [
      "10\n"
     ]
    }
   ],
   "source": [
    "a=10\n",
    "b=10\n",
    "c=10\n",
    "d=10\n",
    "print(a)"
   ]
  },
  {
   "cell_type": "code",
   "execution_count": 36,
   "metadata": {},
   "outputs": [
    {
     "data": {
      "text/plain": [
       "10"
      ]
     },
     "execution_count": 36,
     "metadata": {},
     "output_type": "execute_result"
    }
   ],
   "source": [
    "a"
   ]
  },
  {
   "cell_type": "code",
   "execution_count": 37,
   "metadata": {},
   "outputs": [
    {
     "data": {
      "text/plain": [
       "10"
      ]
     },
     "execution_count": 37,
     "metadata": {},
     "output_type": "execute_result"
    }
   ],
   "source": [
    "b"
   ]
  },
  {
   "cell_type": "code",
   "execution_count": 38,
   "metadata": {},
   "outputs": [
    {
     "data": {
      "text/plain": [
       "10"
      ]
     },
     "execution_count": 38,
     "metadata": {},
     "output_type": "execute_result"
    }
   ],
   "source": [
    "c"
   ]
  },
  {
   "cell_type": "code",
   "execution_count": 40,
   "metadata": {},
   "outputs": [],
   "source": [
    "a=b=c=d=e=100"
   ]
  },
  {
   "cell_type": "code",
   "execution_count": 41,
   "metadata": {},
   "outputs": [
    {
     "data": {
      "text/plain": [
       "100"
      ]
     },
     "execution_count": 41,
     "metadata": {},
     "output_type": "execute_result"
    }
   ],
   "source": [
    "a"
   ]
  },
  {
   "cell_type": "code",
   "execution_count": 42,
   "metadata": {},
   "outputs": [
    {
     "data": {
      "text/plain": [
       "100"
      ]
     },
     "execution_count": 42,
     "metadata": {},
     "output_type": "execute_result"
    }
   ],
   "source": [
    "b"
   ]
  },
  {
   "cell_type": "code",
   "execution_count": 43,
   "metadata": {},
   "outputs": [
    {
     "data": {
      "text/plain": [
       "100"
      ]
     },
     "execution_count": 43,
     "metadata": {},
     "output_type": "execute_result"
    }
   ],
   "source": [
    "e"
   ]
  },
  {
   "cell_type": "code",
   "execution_count": 44,
   "metadata": {},
   "outputs": [
    {
     "ename": "NameError",
     "evalue": "name 'hi' is not defined",
     "output_type": "error",
     "traceback": [
      "\u001b[1;31m---------------------------------------------------------------------------\u001b[0m",
      "\u001b[1;31mNameError\u001b[0m                                 Traceback (most recent call last)",
      "\u001b[1;32m<ipython-input-44-1979c36afbe8>\u001b[0m in \u001b[0;36m<module>\u001b[1;34m\u001b[0m\n\u001b[1;32m----> 1\u001b[1;33m \u001b[0mx\u001b[0m\u001b[1;33m=\u001b[0m\u001b[0mhi\u001b[0m\u001b[1;33m\u001b[0m\u001b[1;33m\u001b[0m\u001b[0m\n\u001b[0m",
      "\u001b[1;31mNameError\u001b[0m: name 'hi' is not defined"
     ]
    }
   ],
   "source": [
    "x=hi\n",
    "# here except numerical value or keywords remainig all we have gave with inside  \"\""
   ]
  },
  {
   "cell_type": "code",
   "execution_count": 45,
   "metadata": {},
   "outputs": [],
   "source": [
    "x=\"hi\""
   ]
  },
  {
   "cell_type": "code",
   "execution_count": 46,
   "metadata": {},
   "outputs": [
    {
     "data": {
      "text/plain": [
       "'hi'"
      ]
     },
     "execution_count": 46,
     "metadata": {},
     "output_type": "execute_result"
    }
   ],
   "source": [
    "x"
   ]
  },
  {
   "cell_type": "code",
   "execution_count": 47,
   "metadata": {},
   "outputs": [],
   "source": [
    "x,y,z,z1,z2=\"hi\",\"hello\",10,40.78,\"abc@123\""
   ]
  },
  {
   "cell_type": "code",
   "execution_count": 48,
   "metadata": {},
   "outputs": [
    {
     "data": {
      "text/plain": [
       "40.78"
      ]
     },
     "execution_count": 48,
     "metadata": {},
     "output_type": "execute_result"
    }
   ],
   "source": [
    "z1"
   ]
  },
  {
   "cell_type": "code",
   "execution_count": 49,
   "metadata": {},
   "outputs": [
    {
     "data": {
      "text/plain": [
       "'abc@123'"
      ]
     },
     "execution_count": 49,
     "metadata": {},
     "output_type": "execute_result"
    }
   ],
   "source": [
    "z2"
   ]
  },
  {
   "cell_type": "markdown",
   "metadata": {},
   "source": [
    "### Keywords\n",
    "\n",
    "- Keywords is also called as a reserved words\n",
    "- we didnt use keywords as a variable names ,Function names  or any other identifiers\n",
    "- "
   ]
  },
  {
   "cell_type": "code",
   "execution_count": null,
   "metadata": {},
   "outputs": [],
   "source": []
  },
  {
   "cell_type": "code",
   "execution_count": null,
   "metadata": {},
   "outputs": [],
   "source": []
  },
  {
   "cell_type": "code",
   "execution_count": 23,
   "metadata": {
    "scrolled": true
   },
   "outputs": [
    {
     "data": {
      "text/plain": [
       "['False',\n",
       " 'None',\n",
       " 'True',\n",
       " 'and',\n",
       " 'as',\n",
       " 'assert',\n",
       " 'async',\n",
       " 'await',\n",
       " 'break',\n",
       " 'class',\n",
       " 'continue',\n",
       " 'def',\n",
       " 'del',\n",
       " 'elif',\n",
       " 'else',\n",
       " 'except',\n",
       " 'finally',\n",
       " 'for',\n",
       " 'from',\n",
       " 'global',\n",
       " 'if',\n",
       " 'import',\n",
       " 'in',\n",
       " 'is',\n",
       " 'lambda',\n",
       " 'nonlocal',\n",
       " 'not',\n",
       " 'or',\n",
       " 'pass',\n",
       " 'raise',\n",
       " 'return',\n",
       " 'try',\n",
       " 'while',\n",
       " 'with',\n",
       " 'yield']"
      ]
     },
     "execution_count": 23,
     "metadata": {},
     "output_type": "execute_result"
    }
   ],
   "source": [
    "import keyword\n",
    "keyword.kwlist"
   ]
  },
  {
   "cell_type": "code",
   "execution_count": 30,
   "metadata": {},
   "outputs": [
    {
     "name": "stdout",
     "output_type": "stream",
     "text": [
      "['False', 'None', 'True', 'and', 'as', 'assert', 'async', 'await', 'break', 'class', 'continue', 'def', 'del', 'elif', 'else', 'except', 'finally', 'for', 'from', 'global', 'if', 'import', 'in', 'is', 'lambda', 'nonlocal', 'not', 'or', 'pass', 'raise', 'return', 'try', 'while', 'with', 'yield']\n"
     ]
    }
   ],
   "source": [
    "import keyword\n",
    "print(keyword.kwlist)"
   ]
  },
  {
   "cell_type": "code",
   "execution_count": 50,
   "metadata": {},
   "outputs": [
    {
     "name": "stdout",
     "output_type": "stream",
     "text": [
      "35\n"
     ]
    }
   ],
   "source": [
    "a=keyword.kwlist\n",
    "print(len(a))"
   ]
  },
  {
   "cell_type": "code",
   "execution_count": 22,
   "metadata": {},
   "outputs": [
    {
     "ename": "SyntaxError",
     "evalue": "invalid syntax (<ipython-input-22-aaad21344826>, line 1)",
     "output_type": "error",
     "traceback": [
      "\u001b[1;36m  File \u001b[1;32m\"<ipython-input-22-aaad21344826>\"\u001b[1;36m, line \u001b[1;32m1\u001b[0m\n\u001b[1;33m    in=10\u001b[0m\n\u001b[1;37m     ^\u001b[0m\n\u001b[1;31mSyntaxError\u001b[0m\u001b[1;31m:\u001b[0m invalid syntax\n"
     ]
    }
   ],
   "source": [
    "in=10"
   ]
  },
  {
   "cell_type": "code",
   "execution_count": null,
   "metadata": {},
   "outputs": [],
   "source": [
    "as"
   ]
  },
  {
   "cell_type": "code",
   "execution_count": null,
   "metadata": {},
   "outputs": [],
   "source": [
    "is # keywords displayed in green color\n",
    "\n",
    "a b "
   ]
  },
  {
   "cell_type": "code",
   "execution_count": null,
   "metadata": {},
   "outputs": [],
   "source": []
  }
 ],
 "metadata": {
  "kernelspec": {
   "display_name": "Python 3",
   "language": "python",
   "name": "python3"
  },
  "language_info": {
   "codemirror_mode": {
    "name": "ipython",
    "version": 3
   },
   "file_extension": ".py",
   "mimetype": "text/x-python",
   "name": "python",
   "nbconvert_exporter": "python",
   "pygments_lexer": "ipython3",
   "version": "3.7.3"
  }
 },
 "nbformat": 4,
 "nbformat_minor": 2
}
