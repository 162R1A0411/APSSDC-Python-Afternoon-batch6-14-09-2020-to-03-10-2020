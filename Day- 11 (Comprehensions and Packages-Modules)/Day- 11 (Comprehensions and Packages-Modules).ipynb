{
 "cells": [
  {
   "cell_type": "code",
   "execution_count": null,
   "metadata": {},
   "outputs": [],
   "source": [
    "#Today Agenda :\n",
    "                              1. Dictionary Comprehension\n",
    "                              2. Set Comprehension\n",
    "                              3. Tuple Comprehension\n",
    "                              4. Packages and Modules\n",
    "                              5. Regular Expressions"
   ]
  },
  {
   "cell_type": "code",
   "execution_count": null,
   "metadata": {},
   "outputs": [],
   "source": [
    "#Dictionary Comprehension:\n",
    " Syntax:\n",
    "        resD= {key:value for key,value in iterable if key,value satisfy condition}"
   ]
  },
  {
   "cell_type": "code",
   "execution_count": 1,
   "metadata": {},
   "outputs": [
    {
     "name": "stdout",
     "output_type": "stream",
     "text": [
      "{1: 1, 2: 4, 3: 27, 4: 256, 5: 3125, 6: 46656, 7: 823543, 8: 16777216, 9: 387420489, 10: 10000000000}\n"
     ]
    }
   ],
   "source": [
    "#Example:\n",
    "inputlist = [1,2,3,4,5,6,7,8,9,10]\n",
    "resD = {}\n",
    "for i in inputlist:\n",
    "    resD[i]=pow(i,i)\n",
    "print(resD)"
   ]
  },
  {
   "cell_type": "code",
   "execution_count": 3,
   "metadata": {},
   "outputs": [
    {
     "name": "stdout",
     "output_type": "stream",
     "text": [
      "{1: 1, 2: 4, 3: 27, 4: 256, 5: 3125, 6: 46656, 7: 823543, 8: 16777216, 9: 387420489, 10: 10000000000} "
     ]
    }
   ],
   "source": [
    "print({i:pow(i,i) for i in [1,2,3,4,5,6,7,8,9,10]},end=\" \")"
   ]
  },
  {
   "cell_type": "code",
   "execution_count": 4,
   "metadata": {},
   "outputs": [
    {
     "name": "stdout",
     "output_type": "stream",
     "text": [
      "{'CSK': 'Dhoni', 'MI': 'Rohit', 'RCB': 'Kohli', 'RR': 'Smith', 'Punjab': 'K L Rahul'}\n"
     ]
    }
   ],
   "source": [
    "#Example:2\n",
    "iplteams = [\"CSK\",\"MI\",\"RCB\",\"RR\",\"Punjab\"]\n",
    "captains = [\"Dhoni\",\"Rohit\",\"Kohli\",\"Smith\",\"K L Rahul\"]\n",
    "res = {}\n",
    "for key,value in zip(iplteams,captains):\n",
    "    res[key]=value\n",
    "    \n",
    "print(res)"
   ]
  },
  {
   "cell_type": "code",
   "execution_count": 5,
   "metadata": {},
   "outputs": [
    {
     "data": {
      "text/plain": [
       "{'CSK': 'Dhoni',\n",
       " 'MI': 'Rohit',\n",
       " 'RCB': 'Kohli',\n",
       " 'RR': 'Smith',\n",
       " 'Punjab': 'K L Rahul'}"
      ]
     },
     "execution_count": 5,
     "metadata": {},
     "output_type": "execute_result"
    }
   ],
   "source": [
    "{key:value for key,value in zip(iplteams,captains)}"
   ]
  },
  {
   "cell_type": "code",
   "execution_count": 7,
   "metadata": {},
   "outputs": [
    {
     "name": "stdout",
     "output_type": "stream",
     "text": [
      "{'CSK': 'Dhoni', 'MI': 'Rohit', 'RCB': 'Kohli', 'RR': 'Smith', 'Punjab': 'K L Rahul'}\n"
     ]
    }
   ],
   "source": [
    "print({iplteams:captains for iplteams,captains in zip(iplteams,captains)})"
   ]
  },
  {
   "cell_type": "code",
   "execution_count": 9,
   "metadata": {},
   "outputs": [
    {
     "data": {
      "text/plain": [
       "{'csk': ['Dhoni', 'Rohit', 'Kohli', 'Smith', 'K L Rahul'],\n",
       " 'MI': ['Dhoni', 'Rohit', 'Kohli', 'Smith', 'K L Rahul'],\n",
       " 'RR': ['Dhoni', 'Rohit', 'Kohli', 'Smith', 'K L Rahul'],\n",
       " 'smith': ['Dhoni', 'Rohit', 'Kohli', 'Smith', 'K L Rahul'],\n",
       " 'punjab': ['Dhoni', 'Rohit', 'Kohli', 'Smith', 'K L Rahul']}"
      ]
     },
     "execution_count": 9,
     "metadata": {},
     "output_type": "execute_result"
    }
   ],
   "source": [
    "res={iplteams:captains for iplteams in [\"csk\",\"MI\",\"RR\",\"smith\",\"punjab\"]}\n",
    "res"
   ]
  },
  {
   "cell_type": "code",
   "execution_count": 10,
   "metadata": {},
   "outputs": [
    {
     "name": "stdout",
     "output_type": "stream",
     "text": [
      "90 "
     ]
    }
   ],
   "source": [
    "#Set Comprehensions:  #syntax:   {outputvariable for value in iterable if conditions}\n",
    "s1 = {1,6,8,8,3,4,5,6,89,90,21,25}\n",
    "s2 = set()\n",
    "for i in s1:\n",
    "    if i%3==0:\n",
    "        if i%5==0:\n",
    "            print(i,end=\" \")"
   ]
  },
  {
   "cell_type": "code",
   "execution_count": 13,
   "metadata": {},
   "outputs": [
    {
     "data": {
      "text/plain": [
       "{90}"
      ]
     },
     "execution_count": 13,
     "metadata": {},
     "output_type": "execute_result"
    }
   ],
   "source": [
    "{i for i in {1,6,8,8,3,4,5,6,89,90,21,25} if i%3==0 if i%5==0 if i%6==0}"
   ]
  },
  {
   "cell_type": "code",
   "execution_count": 19,
   "metadata": {},
   "outputs": [
    {
     "data": {
      "text/plain": [
       "(5, 6, 7, 8, 9, 21, 24, 30)"
      ]
     },
     "execution_count": 19,
     "metadata": {},
     "output_type": "execute_result"
    }
   ],
   "source": [
    "#Genarator or Tuple Comprehension:\n",
    "#Syntax:  (outvarible for value in iterable if conditions)\n",
    "tuple(i for i in (5,6,7,8,9,21,24,30) if i>=3)"
   ]
  },
  {
   "cell_type": "code",
   "execution_count": null,
   "metadata": {},
   "outputs": [],
   "source": [
    "#Packages and Modules?\n",
    "\n",
    "                 Package-Subpackages-Modules\n",
    "    # Package is collection of modules and sub packages its root directory \n",
    "    #Module is a Python (.py ) file that containing python definitions,functions,instructions.\n",
    "#Module Types:\n",
    "           1. User Defined Modules\n",
    "           2. Built-in Modules\n",
    "#Packages Types:\n",
    "           1. User Defined\n",
    "           2. Built-in"
   ]
  },
  {
   "cell_type": "code",
   "execution_count": 26,
   "metadata": {},
   "outputs": [
    {
     "name": "stdout",
     "output_type": "stream",
     "text": [
      "600\n",
      "400\n",
      "1000\n",
      "100.0\n"
     ]
    }
   ],
   "source": [
    "#How to create User Defined Modules?\n",
    "\n",
    "#How to use user defined Modules?\n",
    "\n",
    "#import modulename\n",
    "import calc\n",
    "from calc import add,sub\n",
    "from calc import *\n",
    "print(calc.add(100,500))           #modulename.functionname(parameters)\n",
    "print(calc.sub(900,500))\n",
    "print(calc.mul(10,100))\n",
    "print(calc.div(500,5))"
   ]
  },
  {
   "cell_type": "code",
   "execution_count": 33,
   "metadata": {},
   "outputs": [
    {
     "name": "stdout",
     "output_type": "stream",
     "text": [
      "enter a Stringpython\n"
     ]
    },
    {
     "data": {
      "text/plain": [
       "False"
      ]
     },
     "execution_count": 33,
     "metadata": {},
     "output_type": "execute_result"
    }
   ],
   "source": [
    "#Using factorial user defined module:\n",
    "import factorial1                              #Its imports entire module\n",
    "from factorial1 import fact1,ispalindrome     #Its imports only specific functions in a module\n",
    " \n",
    "from factorai1 import *                     #Its import all functions in a module\n",
    "factorial1.fact1(6)\n",
    "factorial1.ispalindrome(input(\"enter a String\"))"
   ]
  },
  {
   "cell_type": "code",
   "execution_count": 39,
   "metadata": {},
   "outputs": [
    {
     "name": "stdout",
     "output_type": "stream",
     "text": [
      "['C:\\\\Users\\\\Mission Impossible\\\\Desktop\\\\Python_Online_Programmingg\\\\Day-11', 'C:\\\\ProgramData\\\\Anaconda3\\\\python37.zip', 'C:\\\\ProgramData\\\\Anaconda3\\\\DLLs', 'C:\\\\ProgramData\\\\Anaconda3\\\\lib', 'C:\\\\ProgramData\\\\Anaconda3', '', 'C:\\\\ProgramData\\\\Anaconda3\\\\lib\\\\site-packages', 'C:\\\\ProgramData\\\\Anaconda3\\\\lib\\\\site-packages\\\\win32', 'C:\\\\ProgramData\\\\Anaconda3\\\\lib\\\\site-packages\\\\win32\\\\lib', 'C:\\\\ProgramData\\\\Anaconda3\\\\lib\\\\site-packages\\\\Pythonwin', 'C:\\\\ProgramData\\\\Anaconda3\\\\lib\\\\site-packages\\\\IPython\\\\extensions', 'C:\\\\Users\\\\Mission Impossible\\\\.ipython'] "
     ]
    }
   ],
   "source": [
    "#Built - in Modules:\n",
    "import sys\n",
    "print((sys.path),end=\" \")"
   ]
  },
  {
   "cell_type": "code",
   "execution_count": null,
   "metadata": {},
   "outputs": [],
   "source": [
    "# Types of Built-in Modules\n",
    "  1. Os module (to perform the basic operations provided by operating system)\n",
    "  2. sys module\n",
    "  3. Math Module\n",
    "  4. Statistics\n",
    "  5. Random Module"
   ]
  },
  {
   "cell_type": "code",
   "execution_count": 51,
   "metadata": {},
   "outputs": [
    {
     "data": {
      "text/plain": [
       "'C:\\\\Users\\\\Mission Impossible\\\\Desktop\\\\Python_Online_Programmingg\\\\Day-11'"
      ]
     },
     "execution_count": 51,
     "metadata": {},
     "output_type": "execute_result"
    }
   ],
   "source": [
    "#os module:\n",
    "import os\n",
    "#os.mkdir(\"python problems\")\n",
    "#os.mkdir(\"Data Science\")\n",
    "# to know the current dir\n",
    "os.getcwd()\n",
    "#change the dir\n",
    "\n",
    "#os.chdir(r\"C:\\Users\\Mission Impossible\\Desktop\\Python_Online_Programmingg\\Day-11\\Data Science\")\n",
    "os.getcwd()\n",
    "os.chdir(r\"C:\\\\Users\\\\Mission Impossible\\\\Desktop\\\\Python_Online_Programmingg\\\\Day-11\")\n",
    "os.getcwd()"
   ]
  },
  {
   "cell_type": "code",
   "execution_count": 56,
   "metadata": {},
   "outputs": [
    {
     "data": {
      "text/plain": [
       "['.ipynb_checkpoints',\n",
       " 'calc.py',\n",
       " 'Day- 11 (Regular Expressions).ipynb',\n",
       " 'factorial1.py',\n",
       " 'Practise.ipynb',\n",
       " 'Python Programming.pdf',\n",
       " 'RE Rules.ipynb',\n",
       " '__pycache__']"
      ]
     },
     "execution_count": 56,
     "metadata": {},
     "output_type": "execute_result"
    }
   ],
   "source": [
    "#to remove a directory\n",
    "os.rmdir(\"python problems\")\n",
    "#os.rmdir(\"Data Science\")\n",
    "#to view the sub files in a directory\n",
    "os.listdir(\"C:\\\\Users\\\\Mission Impossible\\\\Desktop\\\\Python_Online_Programmingg\\\\Day-11\")"
   ]
  },
  {
   "cell_type": "code",
   "execution_count": null,
   "metadata": {},
   "outputs": [],
   "source": [
    "#Random Module:\n",
    "this module can be used to generate the numbers in a range:\n",
    "#Functions in Random:\n",
    "1. random.random()- its generates the random float number between 0.0 and 1.0 \n",
    "2. random.randint()- its generates the integer numbers in a given range\n",
    "3. random.randrange()\n",
    "4. random.choice()\n",
    "5. random.shuffle()"
   ]
  },
  {
   "cell_type": "code",
   "execution_count": 74,
   "metadata": {},
   "outputs": [
    {
     "name": "stdout",
     "output_type": "stream",
     "text": [
      "0.558395032899074\n",
      "80.4468519084465\n",
      "593.9514207619735\n"
     ]
    }
   ],
   "source": [
    "#random.random()\n",
    "import random\n",
    "print(random.random())\n",
    "print(random.random()*100)\n",
    "print(random.random()*1000)"
   ]
  },
  {
   "cell_type": "code",
   "execution_count": 85,
   "metadata": {},
   "outputs": [
    {
     "name": "stdout",
     "output_type": "stream",
     "text": [
      "30\n",
      "647\n"
     ]
    }
   ],
   "source": [
    "#random.randint():\n",
    "import random\n",
    "print(random.randint(1,100))\n",
    "print(random.randint(1,1000))"
   ]
  },
  {
   "cell_type": "code",
   "execution_count": 111,
   "metadata": {},
   "outputs": [
    {
     "data": {
      "text/plain": [
       "10"
      ]
     },
     "execution_count": 111,
     "metadata": {},
     "output_type": "execute_result"
    }
   ],
   "source": [
    "#random.randrange():  randrange(start,stop,step)\n",
    "import random\n",
    "random.randrange(0,10,3)\n",
    "random.randrange(0,101,10)"
   ]
  },
  {
   "cell_type": "code",
   "execution_count": 125,
   "metadata": {},
   "outputs": [
    {
     "name": "stdout",
     "output_type": "stream",
     "text": [
      "m\n",
      "20\n"
     ]
    }
   ],
   "source": [
    "#random.choice():\n",
    "import random\n",
    "print(random.choice(\"python programming\"))\n",
    "print(random.choice([10,20,30,50,47,425,783]))"
   ]
  },
  {
   "cell_type": "code",
   "execution_count": 136,
   "metadata": {},
   "outputs": [
    {
     "data": {
      "text/plain": [
       "[2, 241, 3664, 3, 4, 12, 3537, 53, 2455, 67, 1, 9695]"
      ]
     },
     "execution_count": 136,
     "metadata": {},
     "output_type": "execute_result"
    }
   ],
   "source": [
    "#random.shuffle():\n",
    "numbers = [2455,2,3,4,67,12,9695,3537,3664,53,241,1]\n",
    "random.shuffle(numbers)\n",
    "numbers"
   ]
  },
  {
   "cell_type": "code",
   "execution_count": null,
   "metadata": {},
   "outputs": [],
   "source": [
    "#Math Module:\n",
    "This module can be used to perfom all mathimatical functions."
   ]
  },
  {
   "cell_type": "code",
   "execution_count": 137,
   "metadata": {},
   "outputs": [
    {
     "data": {
      "text/plain": [
       "3.141592653589793"
      ]
     },
     "execution_count": 137,
     "metadata": {},
     "output_type": "execute_result"
    }
   ],
   "source": [
    "import math\n",
    "math.pi"
   ]
  },
  {
   "cell_type": "code",
   "execution_count": 138,
   "metadata": {},
   "outputs": [
    {
     "data": {
      "text/plain": [
       "2.718281828459045"
      ]
     },
     "execution_count": 138,
     "metadata": {},
     "output_type": "execute_result"
    }
   ],
   "source": [
    "math.e"
   ]
  },
  {
   "cell_type": "code",
   "execution_count": 144,
   "metadata": {},
   "outputs": [
    {
     "name": "stdout",
     "output_type": "stream",
     "text": [
      "0.5235987755982988\n",
      "1.0471975511965976\n",
      "59.99999999999999\n",
      "171.88733853924697\n"
     ]
    }
   ],
   "source": [
    "#angke conversions:\n",
    "print(math.radians(30))\n",
    "print(math.radians(60))\n",
    "print(math.degrees(1.0471975511965976))\n",
    "print(math.degrees(3))"
   ]
  },
  {
   "cell_type": "code",
   "execution_count": 148,
   "metadata": {},
   "outputs": [
    {
     "data": {
      "text/plain": [
       "1.2601582175503392"
      ]
     },
     "execution_count": 148,
     "metadata": {},
     "output_type": "execute_result"
    }
   ],
   "source": [
    "print(math.sin(0.5))\n",
    "print(math.cos(2.5))\n",
    "print(math.tan(0.9))"
   ]
  },
  {
   "cell_type": "code",
   "execution_count": 149,
   "metadata": {},
   "outputs": [
    {
     "data": {
      "text/plain": [
       "2.302585092994046"
      ]
     },
     "execution_count": 149,
     "metadata": {},
     "output_type": "execute_result"
    }
   ],
   "source": [
    "math.log(10)"
   ]
  },
  {
   "cell_type": "code",
   "execution_count": 154,
   "metadata": {},
   "outputs": [
    {
     "data": {
      "text/plain": [
       "4"
      ]
     },
     "execution_count": 154,
     "metadata": {},
     "output_type": "execute_result"
    }
   ],
   "source": [
    "math.pow(2,5)\n",
    "math.sqrt(2)\n",
    "math.sqrt(64)\n",
    "math.ceil(4.589900)  #gives the number to the smallest interger,greater than or equal to given number\n",
    "math.floor(4.56690)  #gives the largesr integer less than or equal to given number"
   ]
  },
  {
   "cell_type": "code",
   "execution_count": null,
   "metadata": {},
   "outputs": [],
   "source": [
    "#Statistics Module:\n",
    "This module can be used to perform\n",
    "mean()\n",
    "median()\n",
    "mode()\n",
    "stdev() functions."
   ]
  },
  {
   "cell_type": "code",
   "execution_count": 160,
   "metadata": {},
   "outputs": [
    {
     "name": "stdout",
     "output_type": "stream",
     "text": [
      "5.5\n",
      "5.5\n",
      "5\n",
      "2.449489742783178\n"
     ]
    }
   ],
   "source": [
    "import statistics\n",
    "print(statistics.mean([2,3,4,5,6,7,8,9]))\n",
    "print(statistics.median([2,3,4,5,6,7,8,9])) #its returns the middile value of numeric data in a list\n",
    "print(statistics.mode([2,3,4,5,6,7,8,9,2,3,5,5,5,5,5]))  #its returns the most common data point in the list\n",
    "print(statistics.stdev([2,3,4,5,6,7,8,9]))"
   ]
  },
  {
   "cell_type": "code",
   "execution_count": null,
   "metadata": {},
   "outputs": [],
   "source": [
    "#User Defined Packages:\n",
    "          Package is a collection of subpackages and Modules "
   ]
  },
  {
   "cell_type": "code",
   "execution_count": null,
   "metadata": {},
   "outputs": [],
   "source": [
    "#syntax:\n",
    "from package import module"
   ]
  },
  {
   "cell_type": "code",
   "execution_count": 188,
   "metadata": {},
   "outputs": [
    {
     "name": "stdout",
     "output_type": "stream",
     "text": [
      "enter a numner121\n"
     ]
    },
    {
     "data": {
      "text/plain": [
       "True"
      ]
     },
     "execution_count": 188,
     "metadata": {},
     "output_type": "execute_result"
    }
   ],
   "source": [
    "from UserPackage import usermodule\n",
    "usermodule.isPrime(int(input(\"enter a numner\")))"
   ]
  },
  {
   "cell_type": "code",
   "execution_count": 21,
   "metadata": {},
   "outputs": [
    {
     "data": {
      "text/plain": [
       "True"
      ]
     },
     "execution_count": 21,
     "metadata": {},
     "output_type": "execute_result"
    }
   ],
   "source": [
    "from UserPackage import UserModule\n",
    "UserModule.isprime(103)"
   ]
  },
  {
   "cell_type": "code",
   "execution_count": null,
   "metadata": {},
   "outputs": [],
   "source": []
  },
  {
   "cell_type": "code",
   "execution_count": null,
   "metadata": {},
   "outputs": [],
   "source": []
  }
 ],
 "metadata": {
  "kernelspec": {
   "display_name": "Python 3",
   "language": "python",
   "name": "python3"
  },
  "language_info": {
   "codemirror_mode": {
    "name": "ipython",
    "version": 3
   },
   "file_extension": ".py",
   "mimetype": "text/x-python",
   "name": "python",
   "nbconvert_exporter": "python",
   "pygments_lexer": "ipython3",
   "version": "3.7.3"
  }
 },
 "nbformat": 4,
 "nbformat_minor": 2
}
